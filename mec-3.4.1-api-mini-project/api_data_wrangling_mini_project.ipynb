{
  "cells": [
    {
      "cell_type": "markdown",
      "source": [
        "This exercise will require you to pull some data from https://data.nasdaq.com/ (formerly Quandl API)."
      ],
      "metadata": {
        "id": "TV7QqUN8Mjfl"
      }
    },
    {
      "cell_type": "markdown",
      "source": [
        "As a first step, you will need to register a free account on the https://data.nasdaq.com/ website."
      ],
      "metadata": {
        "id": "cY78aHaxMjfn"
      }
    },
    {
      "cell_type": "markdown",
      "source": [
        "After you register, you will be provided with a unique API key, that you should store:\n",
        "\n",
        "*Note*: Use a `.env` file and put your key in there and `python-dotenv` to access it in this notebook. \n",
        "\n",
        "The code below uses a key that was used when generating this project but has since been deleted. Never submit your keys to source control. There is a `.env-example` file in this repository to illusrtate what you need. Copy that to a file called `.env` and use your own api key in that `.env` file. Make sure you also have a `.gitignore` file with a line for `.env` added to it. \n",
        "\n",
        "The standard Python gitignore is [here](https://github.com/github/gitignore/blob/master/Python.gitignore) you can just copy that. "
      ],
      "metadata": {
        "id": "-lfhR58yMjfo"
      }
    },
    {
      "cell_type": "code",
      "execution_count": 103,
      "source": [
        "#!pip install python-dotenv\n",
        "# get api key from your .env file\n",
        "import os\n",
        "from dotenv import load_dotenv  # if missing this module, simply run `pip install python-dotenv`\n",
        "\n",
        "load_dotenv()\n",
        "API_KEY = os.getenv('NASDAQ_API_KEY')\n",
        "\n",
        "print(API_KEY)"
      ],
      "outputs": [
        {
          "output_type": "stream",
          "name": "stdout",
          "text": [
            "your api key\n"
          ]
        }
      ],
      "metadata": {
        "colab": {
          "base_uri": "https://localhost:8080/"
        },
        "id": "4o41Jqy2Mjfp",
        "outputId": "c3f974cb-7c30-444c-ba51-36a911ddb19e"
      }
    },
    {
      "cell_type": "markdown",
      "source": [
        "Nasdaq Data has a large number of data sources, but, unfortunately, most of them require a Premium subscription. Still, there are also a good number of free datasets."
      ],
      "metadata": {
        "id": "CEuAE9dSMjfr"
      }
    },
    {
      "cell_type": "markdown",
      "source": [
        "For this mini project, we will focus on equities data from the Frankfurt Stock Exhange (FSE), which is available for free. We'll try and analyze the stock prices of a company called Carl Zeiss Meditec, which manufactures tools for eye examinations, as well as medical lasers for laser eye surgery: https://www.zeiss.com/meditec/int/home.html. The company is listed under the stock ticker AFX_X."
      ],
      "metadata": {
        "id": "6DLhXmtIMjfs"
      }
    },
    {
      "cell_type": "markdown",
      "source": [
        "You can find the detailed Nasdaq Data API instructions here: https://docs.data.nasdaq.com/docs/in-depth-usage"
      ],
      "metadata": {
        "id": "gsGleLoHMjfs"
      }
    },
    {
      "cell_type": "markdown",
      "source": [
        "While there is a dedicated Python package for connecting to the Nasdaq API, we would prefer that you use the *requests* package, which can be easily downloaded using *pip* or *conda*. You can find the documentation for the package here: http://docs.python-requests.org/en/master/ "
      ],
      "metadata": {
        "id": "0YAG96_DMjft"
      }
    },
    {
      "cell_type": "markdown",
      "source": [
        "Finally, apart from the *requests* package, you are encouraged to not use any third party Python packages, such as *pandas*, and instead focus on what's available in the Python Standard Library (the *collections* module might come in handy: https://pymotw.com/3/collections/).\n",
        "Also, since you won't have access to DataFrames, you are encouraged to us Python's native data structures - preferably dictionaries, though some questions can also be answered using lists.\n",
        "You can read more on these data structures here: https://docs.python.org/3/tutorial/datastructures.html"
      ],
      "metadata": {
        "id": "1NhXln5MMjft"
      }
    },
    {
      "cell_type": "markdown",
      "source": [
        "Keep in mind that the JSON responses you will be getting from the API map almost one-to-one to Python's dictionaries. Unfortunately, they can be very nested, so make sure you read up on indexing dictionaries in the documentation provided above."
      ],
      "metadata": {
        "id": "ftTISHRxMjfu"
      }
    },
    {
      "cell_type": "code",
      "execution_count": 18,
      "source": [
        "# First, import the relevant modules\n",
        "#!pip install requests\n",
        "import requests, json"
      ],
      "outputs": [],
      "metadata": {
        "id": "g8-NQQ6BMjfu"
      }
    },
    {
      "cell_type": "markdown",
      "source": [
        "Note: API's can change a bit with each version, for this exercise it is reccomended to use the nasdaq api at `https://data.nasdaq.com/api/v3/`. This is the same api as what used to be quandl so `https://www.quandl.com/api/v3/` should work too.\n",
        "\n",
        "Hint: We are looking for the `AFX_X` data on the `datasets/FSE/` dataset."
      ],
      "metadata": {
        "id": "BrO70io4Mjfv"
      }
    },
    {
      "cell_type": "code",
      "execution_count": 30,
      "source": [
        "# Now, call the Nasdaq API and pull out a small sample of the data (only one day) to get a glimpse\n",
        "# into the JSON structure that will be returned\n",
        "url='https://data.nasdaq.com/api/v3/datasets/FSE/AFX_X.json?start_date=2020-12-01&end_date=2020-12-01'\n",
        "res = requests.get(url)\n",
        "data = json.loads(res.text)"
      ],
      "outputs": [],
      "metadata": {
        "id": "m2aWRY7OMjfv"
      }
    },
    {
      "cell_type": "code",
      "execution_count": 33,
      "source": [
        "# Inspect the JSON structure of the object you created, and take note of how nested it is,\n",
        "# as well as the overall structure\n",
        "print(data)\n",
        "data"
      ],
      "outputs": [
        {
          "output_type": "stream",
          "name": "stdout",
          "text": [
            "{'dataset': {'id': 10095370, 'dataset_code': 'AFX_X', 'database_code': 'FSE', 'name': 'Carl Zeiss Meditec (AFX_X)', 'description': 'Stock Prices for Carl Zeiss Meditec (2020-11-02) from the Frankfurt Stock Exchange.<br><br>Trading System: Xetra<br><br>ISIN: DE0005313704', 'refreshed_at': '2020-12-01T14:48:09.907Z', 'newest_available_date': '2020-12-01', 'oldest_available_date': '2000-06-07', 'column_names': ['Date', 'Open', 'High', 'Low', 'Close', 'Change', 'Traded Volume', 'Turnover', 'Last Price of the Day', 'Daily Traded Units', 'Daily Turnover'], 'frequency': 'daily', 'type': 'Time Series', 'premium': False, 'limit': None, 'transform': None, 'column_index': None, 'start_date': '2020-12-01', 'end_date': '2020-12-01', 'data': [['2020-12-01', 112.2, 112.2, 111.5, 112.0, None, 51.0, 5703.0, None, None, None]], 'collapse': None, 'order': None, 'database_id': 6129}}\n"
          ]
        },
        {
          "output_type": "execute_result",
          "data": {
            "text/plain": [
              "{'dataset': {'id': 10095370,\n",
              "  'dataset_code': 'AFX_X',\n",
              "  'database_code': 'FSE',\n",
              "  'name': 'Carl Zeiss Meditec (AFX_X)',\n",
              "  'description': 'Stock Prices for Carl Zeiss Meditec (2020-11-02) from the Frankfurt Stock Exchange.<br><br>Trading System: Xetra<br><br>ISIN: DE0005313704',\n",
              "  'refreshed_at': '2020-12-01T14:48:09.907Z',\n",
              "  'newest_available_date': '2020-12-01',\n",
              "  'oldest_available_date': '2000-06-07',\n",
              "  'column_names': ['Date',\n",
              "   'Open',\n",
              "   'High',\n",
              "   'Low',\n",
              "   'Close',\n",
              "   'Change',\n",
              "   'Traded Volume',\n",
              "   'Turnover',\n",
              "   'Last Price of the Day',\n",
              "   'Daily Traded Units',\n",
              "   'Daily Turnover'],\n",
              "  'frequency': 'daily',\n",
              "  'type': 'Time Series',\n",
              "  'premium': False,\n",
              "  'limit': None,\n",
              "  'transform': None,\n",
              "  'column_index': None,\n",
              "  'start_date': '2020-12-01',\n",
              "  'end_date': '2020-12-01',\n",
              "  'data': [['2020-12-01',\n",
              "    112.2,\n",
              "    112.2,\n",
              "    111.5,\n",
              "    112.0,\n",
              "    None,\n",
              "    51.0,\n",
              "    5703.0,\n",
              "    None,\n",
              "    None,\n",
              "    None]],\n",
              "  'collapse': None,\n",
              "  'order': None,\n",
              "  'database_id': 6129}}"
            ]
          },
          "metadata": {},
          "execution_count": 33
        }
      ],
      "metadata": {
        "colab": {
          "base_uri": "https://localhost:8080/"
        },
        "id": "Q724TJBMMjfw",
        "outputId": "3d03d5d7-9e0b-4073-d0f6-1559cf161282"
      }
    },
    {
      "cell_type": "code",
      "source": [
        "data['dataset']['data']"
      ],
      "metadata": {
        "colab": {
          "base_uri": "https://localhost:8080/"
        },
        "id": "SdrPtCENRxZJ",
        "outputId": "036a9762-b8ee-45c1-ff6a-0993336c4b5f"
      },
      "execution_count": 39,
      "outputs": [
        {
          "output_type": "execute_result",
          "data": {
            "text/plain": [
              "[['2020-12-01',\n",
              "  112.2,\n",
              "  112.2,\n",
              "  111.5,\n",
              "  112.0,\n",
              "  None,\n",
              "  51.0,\n",
              "  5703.0,\n",
              "  None,\n",
              "  None,\n",
              "  None]]"
            ]
          },
          "metadata": {},
          "execution_count": 39
        }
      ]
    },
    {
      "cell_type": "markdown",
      "source": [
        "These are your tasks for this mini project:\n",
        "\n",
        "1. Collect data from the Franfurt Stock Exchange, for the ticker AFX_X, for the whole year 2017 (keep in mind that the date format is YYYY-MM-DD).\n",
        "2. Convert the returned JSON object into a Python dictionary.\n",
        "3. Calculate what the highest and lowest opening prices were for the stock in this period.\n",
        "4. What was the largest change in any one day (based on High and Low price)?\n",
        "5. What was the largest change between any two days (based on Closing Price)?\n",
        "6. What was the average daily trading volume during this year?\n",
        "7. (Optional) What was the median trading volume during this year. (Note: you may need to implement your own function for calculating the median.)"
      ],
      "metadata": {
        "id": "0O557yjzMjfw"
      }
    },
    {
      "cell_type": "code",
      "execution_count": 50,
      "source": [
        "#task1\n",
        "url='https://data.nasdaq.com/api/v3/datasets/FSE/AFX_X.json?start_date=2017-01-01&end_date=2017-12-31'\n",
        "res = requests.get(url)\n",
        "data = json.loads(res.text)"
      ],
      "outputs": [],
      "metadata": {
        "id": "v4dwOJKaMjfx"
      }
    },
    {
      "cell_type": "code",
      "source": [
        "#task2\n",
        "stock_dict=data['dataset']['data']"
      ],
      "metadata": {
        "id": "FpDNc8WHVY12"
      },
      "execution_count": 53,
      "outputs": []
    },
    {
      "cell_type": "code",
      "source": [
        "#task3\n",
        "open_max=stock_dict[0][1]\n",
        "open_min=stock_dict[0][1]\n",
        "for i in range(len(stock_dict)):\n",
        "  if stock_dict[i][1]!=None:\n",
        "    if open_max <= stock_dict[i][1]:\n",
        "      open_max = stock_dict[i][1]\n",
        "    if open_min >= stock_dict[i][1]:\n",
        "      open_min = stock_dict[i][1]\n",
        "\n",
        "print(\"Highest opening price: \",open_max,\" Lowest opening price: \",open_min)"
      ],
      "metadata": {
        "colab": {
          "base_uri": "https://localhost:8080/"
        },
        "id": "XcnDFIxeVaUq",
        "outputId": "d616e767-257a-490d-ff33-6f3c54036863"
      },
      "execution_count": 61,
      "outputs": [
        {
          "output_type": "stream",
          "name": "stdout",
          "text": [
            "Highest opening price:  53.11  Lowest opening price:  34.0\n"
          ]
        }
      ]
    },
    {
      "cell_type": "code",
      "execution_count": 66,
      "source": [
        "#task4\n",
        "day=stock_dict[0][0]\n",
        "change=stock_dict[0][2]/stock_dict[0][3]\n",
        "for i in range(len(stock_dict)):\n",
        "  if stock_dict[i][2]!=None and stock_dict[i][3]!=None:\n",
        "    if stock_dict[i][2]/stock_dict[i][3] >= change:\n",
        "      change = stock_dict[i][2]/stock_dict[i][3]\n",
        "      day = stock_dict[i][0]\n",
        "\n",
        "print(\"Largest change in one day is: \",change*100,\"percent on \",day)\n",
        "\n"
      ],
      "outputs": [
        {
          "output_type": "stream",
          "name": "stdout",
          "text": [
            "Largest change in one day is:  106.4971098265896 percent on  2017-05-11\n"
          ]
        }
      ],
      "metadata": {
        "colab": {
          "base_uri": "https://localhost:8080/"
        },
        "id": "izorxoCLMjfx",
        "outputId": "81c5a773-cb63-4788-c700-ba16eee31bd2"
      }
    },
    {
      "cell_type": "code",
      "source": [
        "#task5\n",
        "day=stock_dict[0][0]\n",
        "day2=stock_dict[1][0]\n",
        "change=abs(stock_dict[1][4]/stock_dict[0][4]-1)\n",
        "for i in range(len(stock_dict)-1):\n",
        "#  print(stock_dict[i][4])\n",
        "  if stock_dict[i][4]!=None and stock_dict[i+1][4]!=None:\n",
        "    if abs(stock_dict[i][4]/stock_dict[i+1][4]-1)>= change:\n",
        "      change = abs(stock_dict[i][4]/stock_dict[i+1][4]-1)\n",
        "      day = stock_dict[i+1][0]\n",
        "      day2 = stock_dict[i][0]\n",
        "\n",
        "print(\"Largest change between two day is: \",change*100,\"percent between \",day,\" and \",day2)"
      ],
      "metadata": {
        "colab": {
          "base_uri": "https://localhost:8080/"
        },
        "id": "z_k2t7_AYRhG",
        "outputId": "29fecf56-7edf-42f0-eb03-a6ee59ff37ca"
      },
      "execution_count": 73,
      "outputs": [
        {
          "output_type": "stream",
          "name": "stdout",
          "text": [
            "Largest change between two day is:  5.769664187514079 percent between  2017-08-08  and  2017-08-09\n"
          ]
        }
      ]
    },
    {
      "cell_type": "code",
      "source": [
        "#task6\n",
        "mean=0.\n",
        "count=0\n",
        "for i in range(len(stock_dict)):\n",
        "#  print(stock_dict[i][6])\n",
        "  if stock_dict[i][6]!=None:\n",
        "    mean = mean + stock_dict[i][6]\n",
        "    count = count +1\n",
        "\n",
        "print(\"Average daily trading volume of year\",stock_dict[0][0][:4],\": \",int(mean/count))"
      ],
      "metadata": {
        "colab": {
          "base_uri": "https://localhost:8080/"
        },
        "id": "-yHZHS6gsUFk",
        "outputId": "ff824702-27ce-481d-91b1-30481eca01c9"
      },
      "execution_count": 100,
      "outputs": [
        {
          "output_type": "stream",
          "name": "stdout",
          "text": [
            "Average daily trading volume of  2017 :  89124\n"
          ]
        }
      ]
    },
    {
      "cell_type": "code",
      "source": [
        "import statistics\n",
        "list=[]\n",
        "for i in range(len(stock_dict)):\n",
        "  #  print(stock_dict[i][6])\n",
        "  if stock_dict[i][6]!=None:\n",
        "    list.append(stock_dict[i][6])\n",
        "\n",
        "print(\"Median trading volume of year\",stock_dict[0][0][:4],\": \", int(statistics.median(list)))\n"
      ],
      "metadata": {
        "colab": {
          "base_uri": "https://localhost:8080/"
        },
        "id": "ICwntLAotK63",
        "outputId": "a2999e5f-42fb-4093-cdf1-e767902a5335"
      },
      "execution_count": 101,
      "outputs": [
        {
          "output_type": "stream",
          "name": "stdout",
          "text": [
            "Median trading volume of year 2017 :  76286\n"
          ]
        }
      ]
    }
  ],
  "metadata": {
    "kernelspec": {
      "name": "python3",
      "display_name": "Python 3.7.9 64-bit ('springboard': conda)"
    },
    "language_info": {
      "codemirror_mode": {
        "name": "ipython",
        "version": 3
      },
      "file_extension": ".py",
      "mimetype": "text/x-python",
      "name": "python",
      "nbconvert_exporter": "python",
      "pygments_lexer": "ipython3",
      "version": "3.7.9"
    },
    "interpreter": {
      "hash": "4885f37acae9217c235118400878352aafa7b76e66df698a1f601374f86939a7"
    },
    "colab": {
      "provenance": []
    }
  },
  "nbformat": 4,
  "nbformat_minor": 0
}