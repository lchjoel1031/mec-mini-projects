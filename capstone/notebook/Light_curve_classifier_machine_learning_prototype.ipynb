{
  "cells": [
    {
      "cell_type": "markdown",
      "metadata": {
        "id": "zF4eJXdlW-jI"
      },
      "source": [
        "### Import packages and libraries"
      ]
    },
    {
      "cell_type": "code",
      "execution_count": null,
      "metadata": {
        "colab": {
          "base_uri": "https://localhost:8080/"
        },
        "id": "ioxffZSuwA_Y",
        "outputId": "c9451c84-ae97-4772-980d-e6f659e5091c"
      },
      "outputs": [
        {
          "name": "stdout",
          "output_type": "stream",
          "text": [
            "Drive already mounted at /content/drive; to attempt to forcibly remount, call drive.mount(\"/content/drive\", force_remount=True).\n"
          ]
        }
      ],
      "source": [
        "from google.colab import drive\n",
        "drive.mount('/content/drive')"
      ]
    },
    {
      "cell_type": "code",
      "execution_count": null,
      "metadata": {
        "id": "EAa4fbXtECVB"
      },
      "outputs": [],
      "source": [
        "import numpy as np\n",
        "import pandas as pd\n",
        "from sklearn import preprocessing, model_selection, metrics, ensemble\n",
        "import pickle\n",
        "import itertools\n",
        "import matplotlib.pyplot as plt\n",
        "from collections import Counter\n",
        "from imblearn.ensemble import BalancedRandomForestClassifier as RandomForestClassifier\n",
        "from scipy.stats import randint as sp_randint\n",
        "from sklearn.utils import class_weight\n",
        "\n",
        "import os\n",
        "import warnings\n",
        "warnings.filterwarnings('ignore')"
      ]
    },
    {
      "cell_type": "markdown",
      "metadata": {
        "id": "uExvEaM6ECVC"
      },
      "source": [
        "  ### Definition of filenames\n"
      ]
    },
    {
      "cell_type": "code",
      "execution_count": null,
      "metadata": {
        "id": "BEht9BvIECVC"
      },
      "outputs": [],
      "source": [
        "#labeled set\n",
        "labels_file = './drive/MyDrive/labeled_set_lc_classifier_SanchezSaez_2020.csv'\n",
        "\n",
        "#features\n",
        "features_file = './drive/MyDrive/features_for_lc_classifier_20200609.csv'\n"
      ]
    },
    {
      "cell_type": "markdown",
      "metadata": {
        "id": "WqJZISl5ECVD"
      },
      "source": [
        "### reading the training set files"
      ]
    },
    {
      "cell_type": "code",
      "execution_count": null,
      "metadata": {
        "colab": {
          "base_uri": "https://localhost:8080/"
        },
        "id": "1eHAryQzECVD",
        "outputId": "f209b111-a7b3-4e80-ecc1-8fe02ec2c797"
      },
      "outputs": [
        {
          "name": "stdout",
          "output_type": "stream",
          "text": [
            "123496\n",
            "              MHAOV_Period_1  MHAOV_Period_2  Amplitude_1  Amplitude_2  \\\n",
            "oid                                                                      \n",
            "ZTF17aaaaavn        0.106021        0.613572     0.078912     0.097860   \n",
            "ZTF17aaaadjh        0.233443        0.233454     0.493980     0.463765   \n",
            "ZTF17aaaadwo        0.060049        0.216873     0.090708     0.196542   \n",
            "ZTF17aaaajjv      526.315748      555.555529     0.539600     0.566276   \n",
            "ZTF17aaaakjt        0.148265        0.148265     0.564867     0.572449   \n",
            "\n",
            "              AndersonDarling_1  AndersonDarling_2  Autocor_length_1  \\\n",
            "oid                                                                    \n",
            "ZTF17aaaaavn           0.847902           0.673712               2.0   \n",
            "ZTF17aaaadjh           1.000000           1.000000               1.0   \n",
            "ZTF17aaaadwo           0.903625           0.993806               1.0   \n",
            "ZTF17aaaajjv           1.000000           1.000000              14.0   \n",
            "ZTF17aaaakjt           0.999907           0.990501               1.0   \n",
            "\n",
            "              Autocor_length_2  Beyond1Std_1  Beyond1Std_2  ...     W4  W1-W2  \\\n",
            "oid                                                         ...                 \n",
            "ZTF17aaaaavn               1.0      0.380952      0.428571  ...  9.426 -0.301   \n",
            "ZTF17aaaadjh               1.0      0.279070      0.293103  ...  8.905 -0.125   \n",
            "ZTF17aaaadwo               1.0      0.368421      0.285714  ...  8.848 -0.065   \n",
            "ZTF17aaaajjv              20.0      0.419580      0.481203  ...  5.957 -0.040   \n",
            "ZTF17aaaakjt               1.0      0.338462      0.350000  ...  9.098 -0.027   \n",
            "\n",
            "              W2-W3      r-W3      r-W2       g-W3      g-W2    g-r_ml  \\\n",
            "oid                                                                      \n",
            "ZTF17aaaaavn  1.491  4.239709  2.748709   5.350475  3.859475  1.110766   \n",
            "ZTF17aaaadjh  2.380  4.533904  2.153904   5.281445  2.901445  0.747541   \n",
            "ZTF17aaaadwo  1.602  4.344352  2.742352   5.495974  3.893974  1.151622   \n",
            "ZTF17aaaajjv  0.997  7.765696  6.768696  10.193531  9.196531  2.427835   \n",
            "ZTF17aaaakjt  0.027  3.161238  3.134238   4.298826  4.271826  1.137588   \n",
            "\n",
            "              delta_period_1  delta_period_2  \n",
            "oid                                           \n",
            "ZTF17aaaaavn        0.017990    4.895612e-01  \n",
            "ZTF17aaaadjh        0.000011    5.197596e-08  \n",
            "ZTF17aaaadwo        0.423044    2.662193e-01  \n",
            "ZTF17aaaajjv       29.239637    1.437226e-04  \n",
            "ZTF17aaaakjt        0.000002    2.169809e-06  \n",
            "\n",
            "[5 rows x 183 columns]\n"
          ]
        }
      ],
      "source": [
        "df_feat = pd.read_csv(features_file,index_col='oid')\n",
        "\n",
        "df_labels = pd.read_csv(labels_file,index_col='oid')\n",
        "\n",
        "#discarding infinite values\n",
        "df_feat = df_feat.replace([np.inf, -np.inf], np.nan)\n",
        "\n",
        "print(df_labels['classALeRCE'].values.size)\n",
        "print(df_feat.head())"
      ]
    },
    {
      "cell_type": "code",
      "execution_count": null,
      "metadata": {
        "colab": {
          "base_uri": "https://localhost:8080/",
          "height": 252
        },
        "id": "Lq4UFnftECVD",
        "outputId": "7d65ffc3-d6e0-4786-d842-ad31a3cb3087"
      },
      "outputs": [
        {
          "name": "stdout",
          "output_type": "stream",
          "text": [
            "(123496,)\n"
          ]
        },
        {
          "data": {
            "text/html": [
              "\n",
              "  <div id=\"df-fb86ee5a-5ea6-43b3-bc7c-a1998fefd38c\">\n",
              "    <div class=\"colab-df-container\">\n",
              "      <div>\n",
              "<style scoped>\n",
              "    .dataframe tbody tr th:only-of-type {\n",
              "        vertical-align: middle;\n",
              "    }\n",
              "\n",
              "    .dataframe tbody tr th {\n",
              "        vertical-align: top;\n",
              "    }\n",
              "\n",
              "    .dataframe thead th {\n",
              "        text-align: right;\n",
              "    }\n",
              "</style>\n",
              "<table border=\"1\" class=\"dataframe\">\n",
              "  <thead>\n",
              "    <tr style=\"text-align: right;\">\n",
              "      <th></th>\n",
              "      <th>class_original</th>\n",
              "      <th>class_hierachical</th>\n",
              "    </tr>\n",
              "    <tr>\n",
              "      <th>oid</th>\n",
              "      <th></th>\n",
              "      <th></th>\n",
              "    </tr>\n",
              "  </thead>\n",
              "  <tbody>\n",
              "    <tr>\n",
              "      <th>ZTF19aapcxhy</th>\n",
              "      <td>AGN</td>\n",
              "      <td>Stochastic</td>\n",
              "    </tr>\n",
              "    <tr>\n",
              "      <th>ZTF18abtmwvo</th>\n",
              "      <td>AGN</td>\n",
              "      <td>Stochastic</td>\n",
              "    </tr>\n",
              "    <tr>\n",
              "      <th>ZTF18acvgdfy</th>\n",
              "      <td>AGN</td>\n",
              "      <td>Stochastic</td>\n",
              "    </tr>\n",
              "    <tr>\n",
              "      <th>ZTF19aabvjsi</th>\n",
              "      <td>AGN</td>\n",
              "      <td>Stochastic</td>\n",
              "    </tr>\n",
              "    <tr>\n",
              "      <th>ZTF18aadyxlg</th>\n",
              "      <td>AGN</td>\n",
              "      <td>Stochastic</td>\n",
              "    </tr>\n",
              "  </tbody>\n",
              "</table>\n",
              "</div>\n",
              "      <button class=\"colab-df-convert\" onclick=\"convertToInteractive('df-fb86ee5a-5ea6-43b3-bc7c-a1998fefd38c')\"\n",
              "              title=\"Convert this dataframe to an interactive table.\"\n",
              "              style=\"display:none;\">\n",
              "        \n",
              "  <svg xmlns=\"http://www.w3.org/2000/svg\" height=\"24px\"viewBox=\"0 0 24 24\"\n",
              "       width=\"24px\">\n",
              "    <path d=\"M0 0h24v24H0V0z\" fill=\"none\"/>\n",
              "    <path d=\"M18.56 5.44l.94 2.06.94-2.06 2.06-.94-2.06-.94-.94-2.06-.94 2.06-2.06.94zm-11 1L8.5 8.5l.94-2.06 2.06-.94-2.06-.94L8.5 2.5l-.94 2.06-2.06.94zm10 10l.94 2.06.94-2.06 2.06-.94-2.06-.94-.94-2.06-.94 2.06-2.06.94z\"/><path d=\"M17.41 7.96l-1.37-1.37c-.4-.4-.92-.59-1.43-.59-.52 0-1.04.2-1.43.59L10.3 9.45l-7.72 7.72c-.78.78-.78 2.05 0 2.83L4 21.41c.39.39.9.59 1.41.59.51 0 1.02-.2 1.41-.59l7.78-7.78 2.81-2.81c.8-.78.8-2.07 0-2.86zM5.41 20L4 18.59l7.72-7.72 1.47 1.35L5.41 20z\"/>\n",
              "  </svg>\n",
              "      </button>\n",
              "      \n",
              "  <style>\n",
              "    .colab-df-container {\n",
              "      display:flex;\n",
              "      flex-wrap:wrap;\n",
              "      gap: 12px;\n",
              "    }\n",
              "\n",
              "    .colab-df-convert {\n",
              "      background-color: #E8F0FE;\n",
              "      border: none;\n",
              "      border-radius: 50%;\n",
              "      cursor: pointer;\n",
              "      display: none;\n",
              "      fill: #1967D2;\n",
              "      height: 32px;\n",
              "      padding: 0 0 0 0;\n",
              "      width: 32px;\n",
              "    }\n",
              "\n",
              "    .colab-df-convert:hover {\n",
              "      background-color: #E2EBFA;\n",
              "      box-shadow: 0px 1px 2px rgba(60, 64, 67, 0.3), 0px 1px 3px 1px rgba(60, 64, 67, 0.15);\n",
              "      fill: #174EA6;\n",
              "    }\n",
              "\n",
              "    [theme=dark] .colab-df-convert {\n",
              "      background-color: #3B4455;\n",
              "      fill: #D2E3FC;\n",
              "    }\n",
              "\n",
              "    [theme=dark] .colab-df-convert:hover {\n",
              "      background-color: #434B5C;\n",
              "      box-shadow: 0px 1px 3px 1px rgba(0, 0, 0, 0.15);\n",
              "      filter: drop-shadow(0px 1px 2px rgba(0, 0, 0, 0.3));\n",
              "      fill: #FFFFFF;\n",
              "    }\n",
              "  </style>\n",
              "\n",
              "      <script>\n",
              "        const buttonEl =\n",
              "          document.querySelector('#df-fb86ee5a-5ea6-43b3-bc7c-a1998fefd38c button.colab-df-convert');\n",
              "        buttonEl.style.display =\n",
              "          google.colab.kernel.accessAllowed ? 'block' : 'none';\n",
              "\n",
              "        async function convertToInteractive(key) {\n",
              "          const element = document.querySelector('#df-fb86ee5a-5ea6-43b3-bc7c-a1998fefd38c');\n",
              "          const dataTable =\n",
              "            await google.colab.kernel.invokeFunction('convertToInteractive',\n",
              "                                                     [key], {});\n",
              "          if (!dataTable) return;\n",
              "\n",
              "          const docLinkHtml = 'Like what you see? Visit the ' +\n",
              "            '<a target=\"_blank\" href=https://colab.research.google.com/notebooks/data_table.ipynb>data table notebook</a>'\n",
              "            + ' to learn more about interactive tables.';\n",
              "          element.innerHTML = '';\n",
              "          dataTable['output_type'] = 'display_data';\n",
              "          await google.colab.output.renderOutput(dataTable, element);\n",
              "          const docLink = document.createElement('div');\n",
              "          docLink.innerHTML = docLinkHtml;\n",
              "          element.appendChild(docLink);\n",
              "        }\n",
              "      </script>\n",
              "    </div>\n",
              "  </div>\n",
              "  "
            ],
            "text/plain": [
              "             class_original class_hierachical\n",
              "oid                                          \n",
              "ZTF19aapcxhy            AGN        Stochastic\n",
              "ZTF18abtmwvo            AGN        Stochastic\n",
              "ZTF18acvgdfy            AGN        Stochastic\n",
              "ZTF19aabvjsi            AGN        Stochastic\n",
              "ZTF18aadyxlg            AGN        Stochastic"
            ]
          },
          "execution_count": 6,
          "metadata": {},
          "output_type": "execute_result"
        }
      ],
      "source": [
        "#defining taxonomy tree\n",
        "df_labels['class_original'] = df_labels['classALeRCE']\n",
        "\n",
        "#defining the classes\n",
        "\n",
        "label_order = ['SNIa', 'SNIbc', 'SNII', 'SLSN','QSO','AGN', 'Blazar', 'YSO','CV/Nova',\n",
        "               'LPV', 'E', 'DSCT', 'RRL', 'CEP','Periodic-Other']\n",
        "\n",
        "labels = df_labels.loc[df_labels.class_original.isin(label_order)][[\"class_original\"]]\n",
        "\n",
        "#defining hierarchical classes:\n",
        "\n",
        "labels['class_hierachical'] = labels['class_original']\n",
        "\n",
        "labels.loc[ (labels['class_hierachical'] == 'LPV') | (labels['class_hierachical'] == 'Periodic-Other') | (labels['class_hierachical'] == 'E')  | (labels['class_hierachical'] == 'DSCT') | (labels['class_hierachical'] == 'RRL') | (labels['class_hierachical'] == 'CEP') , 'class_hierachical'] = 'Periodic'\n",
        "\n",
        "labels.loc[(labels['class_hierachical'] == 'SNIa') | (labels['class_hierachical'] == 'SNIbc') | (labels['class_hierachical'] == 'SNII') | (labels['class_hierachical'] == 'SLSN'), 'class_hierachical'] = 'Transient'\n",
        "\n",
        "labels.loc[(labels['class_hierachical'] == 'CV/Nova')  |(labels['class_hierachical'] == 'YSO') |     (labels['class_hierachical'] == 'AGN') |  (labels['class_hierachical'] == 'QSO') | (labels['class_hierachical'] == 'Blazar')  , 'class_hierachical'] = 'Stochastic'\n",
        "\n",
        "cm_classes_hierachical = ['Transient','Stochastic','Periodic']\n",
        "cm_classes_original = label_order\n",
        "\n",
        "print(labels['class_hierachical'].values.shape)\n",
        "labels.head()"
      ]
    },
    {
      "cell_type": "code",
      "execution_count": null,
      "metadata": {
        "colab": {
          "base_uri": "https://localhost:8080/",
          "height": 362
        },
        "id": "HcJYziDnECVE",
        "outputId": "c2b430b2-6df1-447a-ec7c-8bd2315a101f"
      },
      "outputs": [
        {
          "name": "stdout",
          "output_type": "stream",
          "text": [
            "123496\n"
          ]
        },
        {
          "data": {
            "text/html": [
              "\n",
              "  <div id=\"df-85169412-812f-4fdc-b4f1-7474d7afa099\">\n",
              "    <div class=\"colab-df-container\">\n",
              "      <div>\n",
              "<style scoped>\n",
              "    .dataframe tbody tr th:only-of-type {\n",
              "        vertical-align: middle;\n",
              "    }\n",
              "\n",
              "    .dataframe tbody tr th {\n",
              "        vertical-align: top;\n",
              "    }\n",
              "\n",
              "    .dataframe thead th {\n",
              "        text-align: right;\n",
              "    }\n",
              "</style>\n",
              "<table border=\"1\" class=\"dataframe\">\n",
              "  <thead>\n",
              "    <tr style=\"text-align: right;\">\n",
              "      <th></th>\n",
              "      <th>Amplitude_1</th>\n",
              "      <th>Amplitude_2</th>\n",
              "      <th>AndersonDarling_1</th>\n",
              "      <th>AndersonDarling_2</th>\n",
              "      <th>Autocor_length_1</th>\n",
              "      <th>Autocor_length_2</th>\n",
              "      <th>Beyond1Std_1</th>\n",
              "      <th>Beyond1Std_2</th>\n",
              "      <th>Con_1</th>\n",
              "      <th>Con_2</th>\n",
              "      <th>...</th>\n",
              "      <th>rb</th>\n",
              "      <th>sgscore1</th>\n",
              "      <th>W1-W2</th>\n",
              "      <th>W2-W3</th>\n",
              "      <th>r-W3</th>\n",
              "      <th>r-W2</th>\n",
              "      <th>g-W3</th>\n",
              "      <th>g-W2</th>\n",
              "      <th>delta_period_1</th>\n",
              "      <th>delta_period_2</th>\n",
              "    </tr>\n",
              "    <tr>\n",
              "      <th>oid</th>\n",
              "      <th></th>\n",
              "      <th></th>\n",
              "      <th></th>\n",
              "      <th></th>\n",
              "      <th></th>\n",
              "      <th></th>\n",
              "      <th></th>\n",
              "      <th></th>\n",
              "      <th></th>\n",
              "      <th></th>\n",
              "      <th></th>\n",
              "      <th></th>\n",
              "      <th></th>\n",
              "      <th></th>\n",
              "      <th></th>\n",
              "      <th></th>\n",
              "      <th></th>\n",
              "      <th></th>\n",
              "      <th></th>\n",
              "      <th></th>\n",
              "      <th></th>\n",
              "    </tr>\n",
              "  </thead>\n",
              "  <tbody>\n",
              "    <tr>\n",
              "      <th>ZTF19aapcxhy</th>\n",
              "      <td>0.068704</td>\n",
              "      <td>0.052665</td>\n",
              "      <td>0.665183</td>\n",
              "      <td>0.501831</td>\n",
              "      <td>1.0</td>\n",
              "      <td>1.0</td>\n",
              "      <td>0.250000</td>\n",
              "      <td>0.307692</td>\n",
              "      <td>0.0</td>\n",
              "      <td>0.0</td>\n",
              "      <td>...</td>\n",
              "      <td>0.780000</td>\n",
              "      <td>0.013542</td>\n",
              "      <td>0.796</td>\n",
              "      <td>2.889</td>\n",
              "      <td>8.106832</td>\n",
              "      <td>5.217832</td>\n",
              "      <td>8.668390</td>\n",
              "      <td>5.779390</td>\n",
              "      <td>0.202128</td>\n",
              "      <td>1.155121</td>\n",
              "    </tr>\n",
              "    <tr>\n",
              "      <th>ZTF18abtmwvo</th>\n",
              "      <td>0.115177</td>\n",
              "      <td>0.242334</td>\n",
              "      <td>0.996398</td>\n",
              "      <td>0.999927</td>\n",
              "      <td>1.0</td>\n",
              "      <td>1.0</td>\n",
              "      <td>0.428571</td>\n",
              "      <td>0.333333</td>\n",
              "      <td>0.0</td>\n",
              "      <td>0.0</td>\n",
              "      <td>...</td>\n",
              "      <td>0.717857</td>\n",
              "      <td>0.216488</td>\n",
              "      <td>0.807</td>\n",
              "      <td>2.964</td>\n",
              "      <td>4.669635</td>\n",
              "      <td>2.219991</td>\n",
              "      <td>9.126021</td>\n",
              "      <td>6.162021</td>\n",
              "      <td>0.081005</td>\n",
              "      <td>0.000498</td>\n",
              "    </tr>\n",
              "    <tr>\n",
              "      <th>ZTF18acvgdfy</th>\n",
              "      <td>0.050608</td>\n",
              "      <td>0.242334</td>\n",
              "      <td>0.353987</td>\n",
              "      <td>0.999927</td>\n",
              "      <td>1.0</td>\n",
              "      <td>1.0</td>\n",
              "      <td>0.500000</td>\n",
              "      <td>0.333333</td>\n",
              "      <td>0.0</td>\n",
              "      <td>0.0</td>\n",
              "      <td>...</td>\n",
              "      <td>0.683333</td>\n",
              "      <td>0.088542</td>\n",
              "      <td>0.606</td>\n",
              "      <td>2.876</td>\n",
              "      <td>4.669635</td>\n",
              "      <td>2.219991</td>\n",
              "      <td>8.483215</td>\n",
              "      <td>5.607215</td>\n",
              "      <td>0.023222</td>\n",
              "      <td>0.000498</td>\n",
              "    </tr>\n",
              "    <tr>\n",
              "      <th>ZTF19aabvjsi</th>\n",
              "      <td>0.278477</td>\n",
              "      <td>0.028547</td>\n",
              "      <td>0.999979</td>\n",
              "      <td>0.494246</td>\n",
              "      <td>1.0</td>\n",
              "      <td>1.0</td>\n",
              "      <td>0.340426</td>\n",
              "      <td>0.333333</td>\n",
              "      <td>0.0</td>\n",
              "      <td>0.0</td>\n",
              "      <td>...</td>\n",
              "      <td>0.683333</td>\n",
              "      <td>0.035875</td>\n",
              "      <td>0.938</td>\n",
              "      <td>3.017</td>\n",
              "      <td>8.099364</td>\n",
              "      <td>5.082364</td>\n",
              "      <td>5.266850</td>\n",
              "      <td>3.048084</td>\n",
              "      <td>0.000056</td>\n",
              "      <td>0.529107</td>\n",
              "    </tr>\n",
              "    <tr>\n",
              "      <th>ZTF18aadyxlg</th>\n",
              "      <td>0.278477</td>\n",
              "      <td>0.021935</td>\n",
              "      <td>0.999979</td>\n",
              "      <td>0.543918</td>\n",
              "      <td>1.0</td>\n",
              "      <td>1.0</td>\n",
              "      <td>0.340426</td>\n",
              "      <td>0.500000</td>\n",
              "      <td>0.0</td>\n",
              "      <td>0.0</td>\n",
              "      <td>...</td>\n",
              "      <td>0.683333</td>\n",
              "      <td>0.161542</td>\n",
              "      <td>0.959</td>\n",
              "      <td>3.021</td>\n",
              "      <td>8.041334</td>\n",
              "      <td>5.020334</td>\n",
              "      <td>5.266850</td>\n",
              "      <td>3.048084</td>\n",
              "      <td>0.000056</td>\n",
              "      <td>0.277404</td>\n",
              "    </tr>\n",
              "  </tbody>\n",
              "</table>\n",
              "<p>5 rows × 152 columns</p>\n",
              "</div>\n",
              "      <button class=\"colab-df-convert\" onclick=\"convertToInteractive('df-85169412-812f-4fdc-b4f1-7474d7afa099')\"\n",
              "              title=\"Convert this dataframe to an interactive table.\"\n",
              "              style=\"display:none;\">\n",
              "        \n",
              "  <svg xmlns=\"http://www.w3.org/2000/svg\" height=\"24px\"viewBox=\"0 0 24 24\"\n",
              "       width=\"24px\">\n",
              "    <path d=\"M0 0h24v24H0V0z\" fill=\"none\"/>\n",
              "    <path d=\"M18.56 5.44l.94 2.06.94-2.06 2.06-.94-2.06-.94-.94-2.06-.94 2.06-2.06.94zm-11 1L8.5 8.5l.94-2.06 2.06-.94-2.06-.94L8.5 2.5l-.94 2.06-2.06.94zm10 10l.94 2.06.94-2.06 2.06-.94-2.06-.94-.94-2.06-.94 2.06-2.06.94z\"/><path d=\"M17.41 7.96l-1.37-1.37c-.4-.4-.92-.59-1.43-.59-.52 0-1.04.2-1.43.59L10.3 9.45l-7.72 7.72c-.78.78-.78 2.05 0 2.83L4 21.41c.39.39.9.59 1.41.59.51 0 1.02-.2 1.41-.59l7.78-7.78 2.81-2.81c.8-.78.8-2.07 0-2.86zM5.41 20L4 18.59l7.72-7.72 1.47 1.35L5.41 20z\"/>\n",
              "  </svg>\n",
              "      </button>\n",
              "      \n",
              "  <style>\n",
              "    .colab-df-container {\n",
              "      display:flex;\n",
              "      flex-wrap:wrap;\n",
              "      gap: 12px;\n",
              "    }\n",
              "\n",
              "    .colab-df-convert {\n",
              "      background-color: #E8F0FE;\n",
              "      border: none;\n",
              "      border-radius: 50%;\n",
              "      cursor: pointer;\n",
              "      display: none;\n",
              "      fill: #1967D2;\n",
              "      height: 32px;\n",
              "      padding: 0 0 0 0;\n",
              "      width: 32px;\n",
              "    }\n",
              "\n",
              "    .colab-df-convert:hover {\n",
              "      background-color: #E2EBFA;\n",
              "      box-shadow: 0px 1px 2px rgba(60, 64, 67, 0.3), 0px 1px 3px 1px rgba(60, 64, 67, 0.15);\n",
              "      fill: #174EA6;\n",
              "    }\n",
              "\n",
              "    [theme=dark] .colab-df-convert {\n",
              "      background-color: #3B4455;\n",
              "      fill: #D2E3FC;\n",
              "    }\n",
              "\n",
              "    [theme=dark] .colab-df-convert:hover {\n",
              "      background-color: #434B5C;\n",
              "      box-shadow: 0px 1px 3px 1px rgba(0, 0, 0, 0.15);\n",
              "      filter: drop-shadow(0px 1px 2px rgba(0, 0, 0, 0.3));\n",
              "      fill: #FFFFFF;\n",
              "    }\n",
              "  </style>\n",
              "\n",
              "      <script>\n",
              "        const buttonEl =\n",
              "          document.querySelector('#df-85169412-812f-4fdc-b4f1-7474d7afa099 button.colab-df-convert');\n",
              "        buttonEl.style.display =\n",
              "          google.colab.kernel.accessAllowed ? 'block' : 'none';\n",
              "\n",
              "        async function convertToInteractive(key) {\n",
              "          const element = document.querySelector('#df-85169412-812f-4fdc-b4f1-7474d7afa099');\n",
              "          const dataTable =\n",
              "            await google.colab.kernel.invokeFunction('convertToInteractive',\n",
              "                                                     [key], {});\n",
              "          if (!dataTable) return;\n",
              "\n",
              "          const docLinkHtml = 'Like what you see? Visit the ' +\n",
              "            '<a target=\"_blank\" href=https://colab.research.google.com/notebooks/data_table.ipynb>data table notebook</a>'\n",
              "            + ' to learn more about interactive tables.';\n",
              "          element.innerHTML = '';\n",
              "          dataTable['output_type'] = 'display_data';\n",
              "          await google.colab.output.renderOutput(dataTable, element);\n",
              "          const docLink = document.createElement('div');\n",
              "          docLink.innerHTML = docLinkHtml;\n",
              "          element.appendChild(docLink);\n",
              "        }\n",
              "      </script>\n",
              "    </div>\n",
              "  </div>\n",
              "  "
            ],
            "text/plain": [
              "              Amplitude_1  Amplitude_2  AndersonDarling_1  AndersonDarling_2  \\\n",
              "oid                                                                            \n",
              "ZTF19aapcxhy     0.068704     0.052665           0.665183           0.501831   \n",
              "ZTF18abtmwvo     0.115177     0.242334           0.996398           0.999927   \n",
              "ZTF18acvgdfy     0.050608     0.242334           0.353987           0.999927   \n",
              "ZTF19aabvjsi     0.278477     0.028547           0.999979           0.494246   \n",
              "ZTF18aadyxlg     0.278477     0.021935           0.999979           0.543918   \n",
              "\n",
              "              Autocor_length_1  Autocor_length_2  Beyond1Std_1  Beyond1Std_2  \\\n",
              "oid                                                                            \n",
              "ZTF19aapcxhy               1.0               1.0      0.250000      0.307692   \n",
              "ZTF18abtmwvo               1.0               1.0      0.428571      0.333333   \n",
              "ZTF18acvgdfy               1.0               1.0      0.500000      0.333333   \n",
              "ZTF19aabvjsi               1.0               1.0      0.340426      0.333333   \n",
              "ZTF18aadyxlg               1.0               1.0      0.340426      0.500000   \n",
              "\n",
              "              Con_1  Con_2  ...        rb  sgscore1  W1-W2  W2-W3      r-W3  \\\n",
              "oid                         ...                                               \n",
              "ZTF19aapcxhy    0.0    0.0  ...  0.780000  0.013542  0.796  2.889  8.106832   \n",
              "ZTF18abtmwvo    0.0    0.0  ...  0.717857  0.216488  0.807  2.964  4.669635   \n",
              "ZTF18acvgdfy    0.0    0.0  ...  0.683333  0.088542  0.606  2.876  4.669635   \n",
              "ZTF19aabvjsi    0.0    0.0  ...  0.683333  0.035875  0.938  3.017  8.099364   \n",
              "ZTF18aadyxlg    0.0    0.0  ...  0.683333  0.161542  0.959  3.021  8.041334   \n",
              "\n",
              "                  r-W2      g-W3      g-W2  delta_period_1  delta_period_2  \n",
              "oid                                                                         \n",
              "ZTF19aapcxhy  5.217832  8.668390  5.779390        0.202128        1.155121  \n",
              "ZTF18abtmwvo  2.219991  9.126021  6.162021        0.081005        0.000498  \n",
              "ZTF18acvgdfy  2.219991  8.483215  5.607215        0.023222        0.000498  \n",
              "ZTF19aabvjsi  5.082364  5.266850  3.048084        0.000056        0.529107  \n",
              "ZTF18aadyxlg  5.020334  5.266850  3.048084        0.000056        0.277404  \n",
              "\n",
              "[5 rows x 152 columns]"
            ]
          },
          "execution_count": 7,
          "metadata": {},
          "output_type": "execute_result"
        }
      ],
      "source": [
        "#defining columns excluded from the df_nd table\n",
        "\n",
        "rm_nd_cols = [\n",
        "'n_det_1',\n",
        "'n_det_2',\n",
        "'n_pos_1',\n",
        "'n_pos_2',\n",
        "'n_neg_1',\n",
        "'n_neg_2',\n",
        "'first_mag_1',\n",
        "'first_mag_2',\n",
        "'MHPS_non_zero_1',\n",
        "'MHPS_non_zero_2',\n",
        "'MHPS_PN_flag_1',\n",
        "'MHPS_PN_flag_2',\n",
        "'mean_mag_1',\n",
        "'mean_mag_2',\n",
        "'min_mag_1',\n",
        "'min_mag_2',\n",
        "'W1','W2','W3','W4',\n",
        "'iqr_1',\n",
        "'iqr_2',\n",
        "'delta_mjd_fid_1',\n",
        "'delta_mjd_fid_2',\n",
        "'last_mjd_before_fid_1',\n",
        "'last_mjd_before_fid_2',\n",
        "'g-r_ml',\n",
        "'MHAOV_Period_1', 'MHAOV_Period_2',\n",
        "]\n",
        "\n",
        "\n",
        "df = labels.join(df_feat.drop(rm_nd_cols, axis=1),how='inner')\n",
        "\n",
        "\n",
        "df = df.replace([np.inf, -np.inf], np.nan)\n",
        "\n",
        "df_train = df.copy()\n",
        "#df_train = df_train.fillna(-999)\n",
        "df_train = df_train.fillna(df_train.median())\n",
        "labels = df[['class_original','class_hierachical']]\n",
        "df.drop(['Mean_1','Mean_2','class_original','class_hierachical'], axis=1, inplace=True)\n",
        "#df = df.fillna(-999)\n",
        "df = df.fillna(df.median()\n",
        ")\n",
        "print(len(labels['class_original'].values))\n",
        "\n",
        "df.head()"
      ]
    },
    {
      "cell_type": "code",
      "execution_count": null,
      "metadata": {
        "colab": {
          "base_uri": "https://localhost:8080/"
        },
        "id": "Ih4EmtB8ECVE",
        "outputId": "c2957199-b60f-41c9-8a7a-7b57778c257f"
      },
      "outputs": [
        {
          "name": "stdout",
          "output_type": "stream",
          "text": [
            "['Amplitude_1' 'Amplitude_2' 'AndersonDarling_1' 'AndersonDarling_2'\n",
            " 'Autocor_length_1' 'Autocor_length_2' 'Beyond1Std_1' 'Beyond1Std_2'\n",
            " 'Con_1' 'Con_2' 'Eta_e_1' 'Eta_e_2' 'ExcessVar_1' 'ExcessVar_2'\n",
            " 'GP_DRW_sigma_1' 'GP_DRW_sigma_2' 'GP_DRW_tau_1' 'GP_DRW_tau_2' 'Gskew_1'\n",
            " 'Gskew_2' 'Harmonics_mag_1_1' 'Harmonics_mag_1_2' 'Harmonics_mag_2_1'\n",
            " 'Harmonics_mag_2_2' 'Harmonics_mag_3_1' 'Harmonics_mag_3_2'\n",
            " 'Harmonics_mag_4_1' 'Harmonics_mag_4_2' 'Harmonics_mag_5_1'\n",
            " 'Harmonics_mag_5_2' 'Harmonics_mag_6_1' 'Harmonics_mag_6_2'\n",
            " 'Harmonics_mag_7_1' 'Harmonics_mag_7_2' 'Harmonics_mse_1'\n",
            " 'Harmonics_mse_2' 'Harmonics_phase_2_1' 'Harmonics_phase_2_2'\n",
            " 'Harmonics_phase_3_1' 'Harmonics_phase_3_2' 'Harmonics_phase_4_1'\n",
            " 'Harmonics_phase_4_2' 'Harmonics_phase_5_1' 'Harmonics_phase_5_2'\n",
            " 'Harmonics_phase_6_1' 'Harmonics_phase_6_2' 'Harmonics_phase_7_1'\n",
            " 'Harmonics_phase_7_2' 'IAR_phi_1' 'IAR_phi_2' 'LinearTrend_1'\n",
            " 'LinearTrend_2' 'MHPS_high_1' 'MHPS_high_2' 'MHPS_low_1' 'MHPS_low_2'\n",
            " 'MHPS_ratio_1' 'MHPS_ratio_2' 'MaxSlope_1' 'MaxSlope_2' 'Meanvariance_1'\n",
            " 'Meanvariance_2' 'MedianAbsDev_1' 'MedianAbsDev_2' 'MedianBRP_1'\n",
            " 'MedianBRP_2' 'Multiband_period' 'PairSlopeTrend_1' 'PairSlopeTrend_2'\n",
            " 'PercentAmplitude_1' 'PercentAmplitude_2' 'Period_fit' 'Power_rate_1/2'\n",
            " 'Power_rate_1/3' 'Power_rate_1/4' 'Power_rate_2' 'Power_rate_3'\n",
            " 'Power_rate_4' 'Psi_CS_1' 'Psi_CS_2' 'Psi_eta_1' 'Psi_eta_2' 'Pvar_1'\n",
            " 'Pvar_2' 'Q31_1' 'Q31_2' 'Rcs_1' 'Rcs_2' 'SF_ML_amplitude_1'\n",
            " 'SF_ML_amplitude_2' 'SF_ML_gamma_1' 'SF_ML_gamma_2' 'SPM_A_1' 'SPM_A_2'\n",
            " 'SPM_beta_1' 'SPM_beta_2' 'SPM_chi_1' 'SPM_chi_2' 'SPM_gamma_1'\n",
            " 'SPM_gamma_2' 'SPM_t0_1' 'SPM_t0_2' 'SPM_tau_fall_1' 'SPM_tau_fall_2'\n",
            " 'SPM_tau_rise_1' 'SPM_tau_rise_2' 'Skew_1' 'Skew_2' 'SmallKurtosis_1'\n",
            " 'SmallKurtosis_2' 'Std_1' 'Std_2' 'StetsonK_1' 'StetsonK_2'\n",
            " 'delta_mag_fid_1' 'delta_mag_fid_2' 'dmag_first_det_fid_1'\n",
            " 'dmag_first_det_fid_2' 'dmag_non_det_fid_1' 'dmag_non_det_fid_2'\n",
            " 'g-r_max' 'g-r_max_corr' 'g-r_mean' 'g-r_mean_corr' 'gal_b' 'gal_l'\n",
            " 'last_diffmaglim_before_fid_1' 'last_diffmaglim_before_fid_2'\n",
            " 'max_diffmaglim_after_fid_1' 'max_diffmaglim_after_fid_2'\n",
            " 'max_diffmaglim_before_fid_1' 'max_diffmaglim_before_fid_2'\n",
            " 'median_diffmaglim_after_fid_1' 'median_diffmaglim_after_fid_2'\n",
            " 'median_diffmaglim_before_fid_1' 'median_diffmaglim_before_fid_2'\n",
            " 'n_non_det_after_fid_1' 'n_non_det_after_fid_2' 'n_non_det_before_fid_1'\n",
            " 'n_non_det_before_fid_2' 'positive_fraction_1' 'positive_fraction_2' 'rb'\n",
            " 'sgscore1' 'W1-W2' 'W2-W3' 'r-W3' 'r-W2' 'g-W3' 'g-W2' 'delta_period_1'\n",
            " 'delta_period_2']\n",
            "152\n"
          ]
        }
      ],
      "source": [
        "#which are the features included in the model?\n",
        "print(np.array(df.columns))\n",
        "print(len(np.array(df.columns)))"
      ]
    },
    {
      "cell_type": "code",
      "execution_count": null,
      "metadata": {
        "colab": {
          "base_uri": "https://localhost:8080/"
        },
        "id": "0rnt2v2rECVE",
        "outputId": "3e5fd8d4-d340-4c56-beab-87877fdf9b94",
        "scrolled": true
      },
      "outputs": [
        {
          "name": "stdout",
          "output_type": "stream",
          "text": [
            "SNIa 1272\n",
            "SNIbc 94\n",
            "SNII 328\n",
            "SLSN 24\n",
            "QSO 26168\n",
            "AGN 4667\n",
            "Blazar 1267\n",
            "YSO 1740\n",
            "CV/Nova 871\n",
            "LPV 14076\n",
            "E 37901\n",
            "DSCT 732\n",
            "RRL 32482\n",
            "CEP 618\n",
            "Periodic-Other 1256\n"
          ]
        }
      ],
      "source": [
        "#how many sources belong to each class?\n",
        "for idx, cl in enumerate(label_order):\n",
        "   print(cl, labels['class_original'][labels['class_original']==cl].shape[0])"
      ]
    },
    {
      "cell_type": "code",
      "execution_count": null,
      "metadata": {
        "colab": {
          "base_uri": "https://localhost:8080/",
          "height": 824
        },
        "id": "0IkBydf7ECVE",
        "outputId": "e7c42b7d-cfeb-4d84-ffb7-f062b60df1f9"
      },
      "outputs": [
        {
          "name": "stdout",
          "output_type": "stream",
          "text": [
            "Counter({'E': 37901, 'RRL': 32482, 'QSO': 26168, 'LPV': 14076, 'AGN': 4667, 'YSO': 1740, 'SNIa': 1272, 'Blazar': 1267, 'Periodic-Other': 1256, 'CV/Nova': 871, 'DSCT': 732, 'CEP': 618, 'SNII': 328, 'SNIbc': 94, 'SLSN': 24})\n",
            "                number\n",
            "E                37901\n",
            "RRL              32482\n",
            "QSO              26168\n",
            "LPV              14076\n",
            "AGN               4667\n",
            "YSO               1740\n",
            "SNIa              1272\n",
            "Blazar            1267\n",
            "Periodic-Other    1256\n",
            "CV/Nova            871\n",
            "DSCT               732\n",
            "CEP                618\n",
            "SNII               328\n",
            "SNIbc               94\n",
            "SLSN                24\n"
          ]
        },
        {
          "data": {
            "image/png": "[encoded data removed]",
            "text/plain": [
              "<Figure size 640x480 with 1 Axes>"
            ]
          },
          "metadata": {},
          "output_type": "display_data"
        }
      ],
      "source": [
        "#plotting the number of sources per class for the labeled set\n",
        "class_counts = Counter(labels['class_original'])\n",
        "class_counts.most_common()\n",
        "print(class_counts)\n",
        "\n",
        "\n",
        "df_hist = pd.DataFrame.from_dict(class_counts, orient='index',columns=['number'])\n",
        "df_hist = df_hist.sort_values(by=['number'],ascending=False)\n",
        "print(df_hist)\n",
        "df_hist.plot(kind='bar',legend=False)\n",
        "\n",
        "\n",
        "plt.yscale('log')\n",
        "\n",
        "plt.ylabel(r'$\\#$ of sources')\n",
        "\n",
        "plt.savefig('number_sources_labeled_set.pdf',bbox_inches='tight')"
      ]
    },
    {
      "cell_type": "markdown",
      "metadata": {
        "id": "SNfkyOVWECVE"
      },
      "source": [
        "  ### Defining functions to plot the confusion matrix and the feature importance"
      ]
    },
    {
      "cell_type": "code",
      "execution_count": null,
      "metadata": {
        "id": "gaas_rj_ECVF"
      },
      "outputs": [],
      "source": [
        "def plot_confusion_matrix(cm, classes, plot_name,\n",
        "                          normalize=True,\n",
        "                          title=None,\n",
        "                          cmap=plt.cm.Blues):\n",
        "    \"\"\"\n",
        "    This function prints and plots the confusion matrix.\n",
        "    Normalization can be applied by setting `normalize=True`.\n",
        "    \"\"\"\n",
        "    if normalize:\n",
        "        cm = np.round((cm.astype('float') / cm.sum(axis=1)[:, np.newaxis])*100)\n",
        "        print(\"Normalized confusion matrix\")\n",
        "    else:\n",
        "        print('Confusion matrix, without normalization')\n",
        "\n",
        "\n",
        "    print(cm)\n",
        "\n",
        "    fig, ax = plt.subplots(figsize=(12, 10))\n",
        "    plt.imshow(cm, interpolation='nearest', cmap=cmap)\n",
        "    plt.title(title)\n",
        "    #plt.colorbar()\n",
        "    tick_marks = np.arange(len(classes))\n",
        "    plt.xticks(tick_marks, classes, rotation=45, fontsize = 17)\n",
        "    plt.yticks(tick_marks, classes, fontsize = 17)\n",
        "\n",
        "    #fmt = '.2f' if normalize else 'd'\n",
        "    fmt =  'd'\n",
        "    thresh = cm.max() / 2.\n",
        "    for i, j in itertools.product(range(cm.shape[0]), range(cm.shape[1])):\n",
        "        plt.text(j, i, \"%d\"%  (cm[i, j]),\n",
        "                 horizontalalignment=\"center\",\n",
        "                 color=\"white\" if cm[i, j] > thresh else \"black\",fontsize = 16)\n",
        "\n",
        "    plt.tight_layout()\n",
        "    plt.ylabel('True label',fontsize = 18)\n",
        "    plt.xlabel('Predicted label',fontsize = 18)\n",
        "    plt.savefig(plot_name, bbox_inches='tight')\n",
        "    #plt.close()\n",
        "\n",
        "\n",
        "\n",
        "def plot_feature_importances(model, feature_names,feature_importances_name):\n",
        "    I = np.argsort(model.feature_importances_)[::-1]\n",
        "    I = I[0:60]\n",
        "    for i in I[0:30]:\n",
        "        print(feature_names[i], \"& %.3f\" % (model.feature_importances_[i]))\n",
        "    fig, ax = plt.subplots(figsize=(16, 5), tight_layout=True)\n",
        "    x_plot = np.arange(len(I))\n",
        "    plt.xticks(x_plot, [feature_names[i] for i in I], rotation='vertical')\n",
        "    ax.bar(x_plot, height=model.feature_importances_[I]);\n",
        "    plt.savefig(feature_importances_name, bbox_inches='tight')\n",
        "    #plt.close()"
      ]
    },
    {
      "cell_type": "markdown",
      "metadata": {
        "id": "QJRhlcILECVF"
      },
      "source": [
        "### Pre-processing training data"
      ]
    },
    {
      "cell_type": "code",
      "execution_count": null,
      "metadata": {
        "colab": {
          "base_uri": "https://localhost:8080/"
        },
        "id": "dzyFaBWGECVF",
        "outputId": "8ee01ef8-7522-45f8-b91f-25cc641664ba"
      },
      "outputs": [
        {
          "name": "stdout",
          "output_type": "stream",
          "text": [
            "123496\n",
            "123496\n",
            "69651 27771 1374\n"
          ]
        }
      ],
      "source": [
        "Y_hierarchical = labels['class_hierachical']\n",
        "Y_original = labels['class_original']\n",
        "\n",
        "print(len(labels['class_hierachical'].values))\n",
        "print(len(labels['class_original'].values))\n",
        "X_hierarchical = df\n",
        "\n",
        "#splitting training set\n",
        "X_train_hierarchical, X_test_hierarchical, y_train_hierarchical, y_test_hierarchical, y_train_original, y_test_original  = model_selection.train_test_split(X_hierarchical,\n",
        "          Y_hierarchical, Y_original, test_size=0.2, stratify=Y_original)\n",
        "\n",
        "\n",
        "# separating training sets for sub-classes\n",
        "X_train_periodic = X_train_hierarchical.loc[y_train_hierarchical=='Periodic', :]\n",
        "y_train_periodic = y_train_original.loc[y_train_hierarchical=='Periodic']\n",
        "\n",
        "X_train_stochastic = X_train_hierarchical.loc[y_train_hierarchical=='Stochastic', :]\n",
        "y_train_stochastic = y_train_original.loc[y_train_hierarchical=='Stochastic']\n",
        "\n",
        "X_train_transient = X_train_hierarchical.loc[y_train_hierarchical=='Transient', :]\n",
        "y_train_transient = y_train_original.loc[y_train_hierarchical=='Transient']\n",
        "\n",
        "X_test_periodic = X_test_hierarchical.loc[y_test_hierarchical=='Periodic', :]\n",
        "X_test_stochastic = X_test_hierarchical.loc[y_test_hierarchical=='Stochastic', :]\n",
        "X_test_transient = X_test_hierarchical.loc[y_test_hierarchical=='Transient', :]\n",
        "\n",
        "y_test_periodic = y_test_original.loc[y_test_hierarchical=='Periodic']\n",
        "y_test_stochastic = y_test_original.loc[y_test_hierarchical=='Stochastic']\n",
        "y_test_transient = y_test_original.loc[y_test_hierarchical=='Transient']\n",
        "\n",
        "\n",
        "print(len(y_train_periodic), len(y_train_stochastic), len(y_train_transient))"
      ]
    },
    {
      "cell_type": "code",
      "execution_count": null,
      "metadata": {
        "colab": {
          "base_uri": "https://localhost:8080/",
          "height": 1000
        },
        "id": "NmYx621QHjtg",
        "outputId": "16ac1fd6-7bde-405b-c7b3-98c1627355fb"
      },
      "outputs": [
        {
          "data": {
            "application/vnd.google.colaboratory.intrinsic+json": {
              "type": "string"
            },
            "text/plain": [
              "'{\"Amplitude_1\":{\"ZTF18abgjeyu\":0.3398539843},\"Amplitude_2\":{\"ZTF18abgjeyu\":0.2097594657},\"AndersonDarling_1\":{\"ZTF18abgjeyu\":0.9999999966},\"AndersonDarling_2\":{\"ZTF18abgjeyu\":0.9993878211},\"Autocor_length_1\":{\"ZTF18abgjeyu\":1.0},\"Autocor_length_2\":{\"ZTF18abgjeyu\":1.0},\"Beyond1Std_1\":{\"ZTF18abgjeyu\":0.3636363636},\"Beyond1Std_2\":{\"ZTF18abgjeyu\":0.3333333333},\"Con_1\":{\"ZTF18abgjeyu\":0.0},\"Con_2\":{\"ZTF18abgjeyu\":0.0},\"Eta_e_1\":{\"ZTF18abgjeyu\":1.9627990311},\"Eta_e_2\":{\"ZTF18abgjeyu\":3.8613688792},\"ExcessVar_1\":{\"ZTF18abgjeyu\":0.0001648189},\"ExcessVar_2\":{\"ZTF18abgjeyu\":0.0001031749},\"GP_DRW_sigma_1\":{\"ZTF18abgjeyu\":0.0504875747},\"GP_DRW_sigma_2\":{\"ZTF18abgjeyu\":0.0311753794},\"GP_DRW_tau_1\":{\"ZTF18abgjeyu\":0.0823613746},\"GP_DRW_tau_2\":{\"ZTF18abgjeyu\":0.1958100206},\"Gskew_1\":{\"ZTF18abgjeyu\":0.3602658381},\"Gskew_2\":{\"ZTF18abgjeyu\":0.3226631343},\"Harmonics_mag_1_1\":{\"ZTF18abgjeyu\":0.2735454848},\"Harmonics_mag_1_2\":{\"ZTF18abgjeyu\":2.3472180719},\"Harmonics_mag_2_1\":{\"ZTF18abgjeyu\":0.0528741545},\"Harmonics_mag_2_2\":{\"ZTF18abgjeyu\":5.307231164},\"Harmonics_mag_3_1\":{\"ZTF18abgjeyu\":0.0791108374},\"Harmonics_mag_3_2\":{\"ZTF18abgjeyu\":2.1400961699},\"Harmonics_mag_4_1\":{\"ZTF18abgjeyu\":0.0319804104},\"Harmonics_mag_4_2\":{\"ZTF18abgjeyu\":2.6638890206},\"Harmonics_mag_5_1\":{\"ZTF18abgjeyu\":0.063140164},\"Harmonics_mag_5_2\":{\"ZTF18abgjeyu\":3.3154835459},\"Harmonics_mag_6_1\":{\"ZTF18abgjeyu\":0.0437069653},\"Harmonics_mag_6_2\":{\"ZTF18abgjeyu\":2.334173471},\"Harmonics_mag_7_1\":{\"ZTF18abgjeyu\":0.0684544643},\"Harmonics_mag_7_2\":{\"ZTF18abgjeyu\":2.5213935149},\"Harmonics_mse_1\":{\"ZTF18abgjeyu\":0.0022434692},\"Harmonics_mse_2\":{\"ZTF18abgjeyu\":2.328016183e-28},\"Harmonics_phase_2_1\":{\"ZTF18abgjeyu\":0.4899244446},\"Harmonics_phase_2_2\":{\"ZTF18abgjeyu\":1.2791506927},\"Harmonics_phase_3_1\":{\"ZTF18abgjeyu\":2.4879694217},\"Harmonics_phase_3_2\":{\"ZTF18abgjeyu\":3.9706426906},\"Harmonics_phase_4_1\":{\"ZTF18abgjeyu\":0.7736517154},\"Harmonics_phase_4_2\":{\"ZTF18abgjeyu\":2.3471974898},\"Harmonics_phase_5_1\":{\"ZTF18abgjeyu\":4.6908295893},\"Harmonics_phase_5_2\":{\"ZTF18abgjeyu\":0.4610360494},\"Harmonics_phase_6_1\":{\"ZTF18abgjeyu\":3.0259005879},\"Harmonics_phase_6_2\":{\"ZTF18abgjeyu\":0.4900127355},\"Harmonics_phase_7_1\":{\"ZTF18abgjeyu\":1.0556803093},\"Harmonics_phase_7_2\":{\"ZTF18abgjeyu\":4.5409238026},\"IAR_phi_1\":{\"ZTF18abgjeyu\":0.0},\"IAR_phi_2\":{\"ZTF18abgjeyu\":0.0000047802},\"LinearTrend_1\":{\"ZTF18abgjeyu\":-0.0004602212},\"LinearTrend_2\":{\"ZTF18abgjeyu\":-0.000220452},\"MHPS_high_1\":{\"ZTF18abgjeyu\":0.1852278391},\"MHPS_high_2\":{\"ZTF18abgjeyu\":0.3124199219},\"MHPS_low_1\":{\"ZTF18abgjeyu\":0.5025678329},\"MHPS_low_2\":{\"ZTF18abgjeyu\":0.044381709},\"MHPS_ratio_1\":{\"ZTF18abgjeyu\":2.7132413535},\"MHPS_ratio_2\":{\"ZTF18abgjeyu\":0.142057871},\"MaxSlope_1\":{\"ZTF18abgjeyu\":0.3360144142},\"MaxSlope_2\":{\"ZTF18abgjeyu\":0.1262638472},\"Meanvariance_1\":{\"ZTF18abgjeyu\":0.0130075505},\"Meanvariance_2\":{\"ZTF18abgjeyu\":0.0103211993},\"MedianAbsDev_1\":{\"ZTF18abgjeyu\":0.1236619085},\"MedianAbsDev_2\":{\"ZTF18abgjeyu\":0.0484278986},\"MedianBRP_1\":{\"ZTF18abgjeyu\":0.303030303},\"MedianBRP_2\":{\"ZTF18abgjeyu\":0.4444444444},\"Multiband_period\":{\"ZTF18abgjeyu\":0.675219362},\"PairSlopeTrend_1\":{\"ZTF18abgjeyu\":-0.2333333333},\"PairSlopeTrend_2\":{\"ZTF18abgjeyu\":0.0},\"PercentAmplitude_1\":{\"ZTF18abgjeyu\":0.030339448},\"PercentAmplitude_2\":{\"ZTF18abgjeyu\":0.0214719797},\"Period_fit\":{\"ZTF18abgjeyu\":0.0633483349},\"Power_rate_1\\\\/2\":{\"ZTF18abgjeyu\":0.0428448394},\"Power_rate_1\\\\/3\":{\"ZTF18abgjeyu\":0.0269761458},\"Power_rate_1\\\\/4\":{\"ZTF18abgjeyu\":0.0080128368},\"Power_rate_2\":{\"ZTF18abgjeyu\":0.0038363163},\"Power_rate_3\":{\"ZTF18abgjeyu\":0.0340173915},\"Power_rate_4\":{\"ZTF18abgjeyu\":0.0096260197},\"Psi_CS_1\":{\"ZTF18abgjeyu\":0.2894601351},\"Psi_CS_2\":{\"ZTF18abgjeyu\":0.3740580207},\"Psi_eta_1\":{\"ZTF18abgjeyu\":0.4700367177},\"Psi_eta_2\":{\"ZTF18abgjeyu\":2.0251349803},\"Pvar_1\":{\"ZTF18abgjeyu\":1.0},\"Pvar_2\":{\"ZTF18abgjeyu\":1.0},\"Q31_1\":{\"ZTF18abgjeyu\":0.4709826233},\"Q31_2\":{\"ZTF18abgjeyu\":0.3591123802},\"Rcs_1\":{\"ZTF18abgjeyu\":0.2123900279},\"Rcs_2\":{\"ZTF18abgjeyu\":0.1737388094},\"SF_ML_amplitude_1\":{\"ZTF18abgjeyu\":0.3370964151},\"SF_ML_amplitude_2\":{\"ZTF18abgjeyu\":0.2822368778},\"SF_ML_gamma_1\":{\"ZTF18abgjeyu\":0.026680447},\"SF_ML_gamma_2\":{\"ZTF18abgjeyu\":-0.0493457006},\"SPM_A_1\":{\"ZTF18abgjeyu\":0.133989215},\"SPM_A_2\":{\"ZTF18abgjeyu\":0.1567369054},\"SPM_beta_1\":{\"ZTF18abgjeyu\":99.9920767587},\"SPM_beta_2\":{\"ZTF18abgjeyu\":99.9998636232},\"SPM_chi_1\":{\"ZTF18abgjeyu\":5.4137352849},\"SPM_chi_2\":{\"ZTF18abgjeyu\":2.3817483793},\"SPM_gamma_1\":{\"ZTF18abgjeyu\":0.0148501516},\"SPM_gamma_2\":{\"ZTF18abgjeyu\":0.0000000012},\"SPM_t0_1\":{\"ZTF18abgjeyu\":49.9675522707},\"SPM_t0_2\":{\"ZTF18abgjeyu\":49.9999204753},\"SPM_tau_fall_1\":{\"ZTF18abgjeyu\":99.9998437329},\"SPM_tau_fall_2\":{\"ZTF18abgjeyu\":99.9999994789},\"SPM_tau_rise_1\":{\"ZTF18abgjeyu\":96.7395653495},\"SPM_tau_rise_2\":{\"ZTF18abgjeyu\":99.3550518864},\"Skew_1\":{\"ZTF18abgjeyu\":0.5028331445},\"Skew_2\":{\"ZTF18abgjeyu\":0.2364449011},\"SmallKurtosis_1\":{\"ZTF18abgjeyu\":-1.3084721629},\"SmallKurtosis_2\":{\"ZTF18abgjeyu\":-1.888427785},\"Std_1\":{\"ZTF18abgjeyu\":0.229888556},\"Std_2\":{\"ZTF18abgjeyu\":0.1797669744},\"StetsonK_1\":{\"ZTF18abgjeyu\":0.8812742812},\"StetsonK_2\":{\"ZTF18abgjeyu\":0.9714763716},\"delta_mag_fid_1\":{\"ZTF18abgjeyu\":0.7061643396},\"delta_mag_fid_2\":{\"ZTF18abgjeyu\":0.4195189315},\"dmag_first_det_fid_1\":{\"ZTF18abgjeyu\":2.4141986683},\"dmag_first_det_fid_2\":{\"ZTF18abgjeyu\":2.2478440809},\"dmag_non_det_fid_1\":{\"ZTF18abgjeyu\":2.8353005477},\"dmag_non_det_fid_2\":{\"ZTF18abgjeyu\":2.7451555513},\"g-r_max\":{\"ZTF18abgjeyu\":-0.3552570343},\"g-r_max_corr\":{\"ZTF18abgjeyu\":0.1678833421},\"g-r_mean\":{\"ZTF18abgjeyu\":0.0405412154},\"g-r_mean_corr\":{\"ZTF18abgjeyu\":0.256213794},\"gal_b\":{\"ZTF18abgjeyu\":-23.772403817},\"gal_l\":{\"ZTF18abgjeyu\":80.1540001774},\"last_diffmaglim_before_fid_1\":{\"ZTF18abgjeyu\":20.1298999786},\"last_diffmaglim_before_fid_2\":{\"ZTF18abgjeyu\":19.8581008911},\"max_diffmaglim_after_fid_1\":{\"ZTF18abgjeyu\":21.0142002106},\"max_diffmaglim_after_fid_2\":{\"ZTF18abgjeyu\":20.8920993805},\"max_diffmaglim_before_fid_1\":{\"ZTF18abgjeyu\":20.6284503937},\"max_diffmaglim_before_fid_2\":{\"ZTF18abgjeyu\":20.9515991211},\"median_diffmaglim_after_fid_1\":{\"ZTF18abgjeyu\":19.8847999573},\"median_diffmaglim_after_fid_2\":{\"ZTF18abgjeyu\":20.0738487244},\"median_diffmaglim_before_fid_1\":{\"ZTF18abgjeyu\":20.1119995117},\"median_diffmaglim_before_fid_2\":{\"ZTF18abgjeyu\":19.9792995453},\"n_non_det_after_fid_1\":{\"ZTF18abgjeyu\":40.0},\"n_non_det_after_fid_2\":{\"ZTF18abgjeyu\":54.0},\"n_non_det_before_fid_1\":{\"ZTF18abgjeyu\":0.0},\"n_non_det_before_fid_2\":{\"ZTF18abgjeyu\":5.0},\"positive_fraction_1\":{\"ZTF18abgjeyu\":0.6363636364},\"positive_fraction_2\":{\"ZTF18abgjeyu\":0.5555555556},\"rb\":{\"ZTF18abgjeyu\":0.73833334},\"sgscore1\":{\"ZTF18abgjeyu\":1.0},\"W1-W2\":{\"ZTF18abgjeyu\":0.025},\"W2-W3\":{\"ZTF18abgjeyu\":3.396},\"r-W3\":{\"ZTF18abgjeyu\":4.7752563804},\"r-W2\":{\"ZTF18abgjeyu\":1.3792563804},\"g-W3\":{\"ZTF18abgjeyu\":5.0314701744},\"g-W2\":{\"ZTF18abgjeyu\":1.6354701744},\"delta_period_1\":{\"ZTF18abgjeyu\":0.0000001087},\"delta_period_2\":{\"ZTF18abgjeyu\":0.6016591213}}'"
            ]
          },
          "execution_count": 16,
          "metadata": {},
          "output_type": "execute_result"
        }
      ],
      "source": [
        "X_train_periodic.head(1).to_json()"
      ]
    },
    {
      "cell_type": "code",
      "execution_count": null,
      "metadata": {
        "colab": {
          "base_uri": "https://localhost:8080/",
          "height": 1000
        },
        "id": "B76-1srxZP5t",
        "outputId": "1358e952-0499-4d19-9c5d-83cdb50370df"
      },
      "outputs": [
        {
          "data": {
            "application/vnd.google.colaboratory.intrinsic+json": {
              "type": "string"
            },
            "text/plain": [
              "'{\"Amplitude_1\":{\"ZTF17aaadavp\":0.5353466696},\"Amplitude_2\":{\"ZTF17aaadavp\":0.2476923366},\"AndersonDarling_1\":{\"ZTF17aaadavp\":0.5771697131},\"AndersonDarling_2\":{\"ZTF17aaadavp\":0.8150134842},\"Autocor_length_1\":{\"ZTF17aaadavp\":1.0},\"Autocor_length_2\":{\"ZTF17aaadavp\":1.0},\"Beyond1Std_1\":{\"ZTF17aaadavp\":0.4285714286},\"Beyond1Std_2\":{\"ZTF17aaadavp\":0.4444444444},\"Con_1\":{\"ZTF17aaadavp\":0.0},\"Con_2\":{\"ZTF17aaadavp\":0.0},\"Eta_e_1\":{\"ZTF17aaadavp\":0.2096480067},\"Eta_e_2\":{\"ZTF17aaadavp\":0.9538306081},\"ExcessVar_1\":{\"ZTF17aaadavp\":0.0004551535},\"ExcessVar_2\":{\"ZTF17aaadavp\":0.0001318539},\"GP_DRW_sigma_1\":{\"ZTF17aaadavp\":0.1288160746},\"GP_DRW_sigma_2\":{\"ZTF17aaadavp\":0.0333194628},\"GP_DRW_tau_1\":{\"ZTF17aaadavp\":20.0907437184},\"GP_DRW_tau_2\":{\"ZTF17aaadavp\":9.0644885953},\"Gskew_1\":{\"ZTF17aaadavp\":0.1224496208},\"Gskew_2\":{\"ZTF17aaadavp\":0.2197028238},\"Harmonics_mag_1_1\":{\"ZTF17aaadavp\":2.7889436964},\"Harmonics_mag_1_2\":{\"ZTF17aaadavp\":2.5430285274},\"Harmonics_mag_2_1\":{\"ZTF17aaadavp\":3.320922135},\"Harmonics_mag_2_2\":{\"ZTF17aaadavp\":1.2633941004},\"Harmonics_mag_3_1\":{\"ZTF17aaadavp\":4.5045858858},\"Harmonics_mag_3_2\":{\"ZTF17aaadavp\":1.9982421261},\"Harmonics_mag_4_1\":{\"ZTF17aaadavp\":4.7911406651},\"Harmonics_mag_4_2\":{\"ZTF17aaadavp\":2.4418456486},\"Harmonics_mag_5_1\":{\"ZTF17aaadavp\":1.8535098124},\"Harmonics_mag_5_2\":{\"ZTF17aaadavp\":3.4397987286},\"Harmonics_mag_6_1\":{\"ZTF17aaadavp\":1.54427708},\"Harmonics_mag_6_2\":{\"ZTF17aaadavp\":3.3123154357},\"Harmonics_mag_7_1\":{\"ZTF17aaadavp\":1.4892729254},\"Harmonics_mag_7_2\":{\"ZTF17aaadavp\":4.0999602086},\"Harmonics_mse_1\":{\"ZTF17aaadavp\":3.91275009e-28},\"Harmonics_mse_2\":{\"ZTF17aaadavp\":4.200246064e-28},\"Harmonics_phase_2_1\":{\"ZTF17aaadavp\":3.7062209284},\"Harmonics_phase_2_2\":{\"ZTF17aaadavp\":5.9020124107},\"Harmonics_phase_3_1\":{\"ZTF17aaadavp\":0.8413640308},\"Harmonics_phase_3_2\":{\"ZTF17aaadavp\":4.3867429318},\"Harmonics_phase_4_1\":{\"ZTF17aaadavp\":1.3657890255},\"Harmonics_phase_4_2\":{\"ZTF17aaadavp\":6.184160991},\"Harmonics_phase_5_1\":{\"ZTF17aaadavp\":2.92327237},\"Harmonics_phase_5_2\":{\"ZTF17aaadavp\":3.368553538},\"Harmonics_phase_6_1\":{\"ZTF17aaadavp\":1.2959624437},\"Harmonics_phase_6_2\":{\"ZTF17aaadavp\":0.2340760134},\"Harmonics_phase_7_1\":{\"ZTF17aaadavp\":6.1982239949},\"Harmonics_phase_7_2\":{\"ZTF17aaadavp\":6.1217215143},\"IAR_phi_1\":{\"ZTF17aaadavp\":0.9411915245},\"IAR_phi_2\":{\"ZTF17aaadavp\":0.929695867},\"LinearTrend_1\":{\"ZTF17aaadavp\":0.0003951783},\"LinearTrend_2\":{\"ZTF17aaadavp\":-0.0008605666},\"MHPS_high_1\":{\"ZTF17aaadavp\":0.0242780943},\"MHPS_high_2\":{\"ZTF17aaadavp\":0.0099827253},\"MHPS_low_1\":{\"ZTF17aaadavp\":0.1931044212},\"MHPS_low_2\":{\"ZTF17aaadavp\":0.0421261305},\"MHPS_ratio_1\":{\"ZTF17aaadavp\":5.8603692582},\"MHPS_ratio_2\":{\"ZTF17aaadavp\":6.3220151393},\"MaxSlope_1\":{\"ZTF17aaadavp\":0.0252672408},\"MaxSlope_2\":{\"ZTF17aaadavp\":0.0172870486},\"Meanvariance_1\":{\"ZTF17aaadavp\":0.0216479751},\"Meanvariance_2\":{\"ZTF17aaadavp\":0.0115199289},\"MedianAbsDev_1\":{\"ZTF17aaadavp\":0.3360160572},\"MedianAbsDev_2\":{\"ZTF17aaadavp\":0.1378409247},\"MedianBRP_1\":{\"ZTF17aaadavp\":0.1428571429},\"MedianBRP_2\":{\"ZTF17aaadavp\":0.1111111111},\"Multiband_period\":{\"ZTF17aaadavp\":0.0999090641},\"PairSlopeTrend_1\":{\"ZTF17aaadavp\":-0.0666666667},\"PairSlopeTrend_2\":{\"ZTF17aaadavp\":0.0},\"PercentAmplitude_1\":{\"ZTF17aaadavp\":0.0335080459},\"PercentAmplitude_2\":{\"ZTF17aaadavp\":0.0225094859},\"Period_fit\":{\"ZTF17aaadavp\":0.0180896185},\"Power_rate_1\\\\/2\":{\"ZTF17aaadavp\":0.0320618264},\"Power_rate_1\\\\/3\":{\"ZTF17aaadavp\":0.0320618264},\"Power_rate_1\\\\/4\":{\"ZTF17aaadavp\":0.0320618264},\"Power_rate_2\":{\"ZTF17aaadavp\":0.0158317927},\"Power_rate_3\":{\"ZTF17aaadavp\":0.0081243552},\"Power_rate_4\":{\"ZTF17aaadavp\":0.0328365341},\"Psi_CS_1\":{\"ZTF17aaadavp\":0.3356097241},\"Psi_CS_2\":{\"ZTF17aaadavp\":0.3241336554},\"Psi_eta_1\":{\"ZTF17aaadavp\":2.0158695663},\"Psi_eta_2\":{\"ZTF17aaadavp\":1.5138834546},\"Pvar_1\":{\"ZTF17aaadavp\":1.0},\"Pvar_2\":{\"ZTF17aaadavp\":1.0},\"Q31_1\":{\"ZTF17aaadavp\":0.6602324369},\"Q31_2\":{\"ZTF17aaadavp\":0.2964268744},\"Rcs_1\":{\"ZTF17aaadavp\":0.440030754},\"Rcs_2\":{\"ZTF17aaadavp\":0.4042873538},\"SF_ML_amplitude_1\":{\"ZTF17aaadavp\":0.7929851609},\"SF_ML_amplitude_2\":{\"ZTF17aaadavp\":0.1847603019},\"SF_ML_gamma_1\":{\"ZTF17aaadavp\":0.2820747777},\"SF_ML_gamma_2\":{\"ZTF17aaadavp\":0.1019283367},\"SPM_A_1\":{\"ZTF17aaadavp\":0.4657601067},\"SPM_A_2\":{\"ZTF17aaadavp\":0.581983814},\"SPM_beta_1\":{\"ZTF17aaadavp\":46.1194137654},\"SPM_beta_2\":{\"ZTF17aaadavp\":99.9642070882},\"SPM_chi_1\":{\"ZTF17aaadavp\":73.1950468284},\"SPM_chi_2\":{\"ZTF17aaadavp\":45.4583305754},\"SPM_gamma_1\":{\"ZTF17aaadavp\":0.7585334249},\"SPM_gamma_2\":{\"ZTF17aaadavp\":0.0136442035},\"SPM_t0_1\":{\"ZTF17aaadavp\":-19.8901554399},\"SPM_t0_2\":{\"ZTF17aaadavp\":49.8811288766},\"SPM_tau_fall_1\":{\"ZTF17aaadavp\":99.9984030786},\"SPM_tau_fall_2\":{\"ZTF17aaadavp\":99.9916184861},\"SPM_tau_rise_1\":{\"ZTF17aaadavp\":62.6720608466},\"SPM_tau_rise_2\":{\"ZTF17aaadavp\":99.0868263186},\"Skew_1\":{\"ZTF17aaadavp\":0.1816077554},\"Skew_2\":{\"ZTF17aaadavp\":0.2854611019},\"SmallKurtosis_1\":{\"ZTF17aaadavp\":-0.1866251404},\"SmallKurtosis_2\":{\"ZTF17aaadavp\":-1.0313028772},\"Std_1\":{\"ZTF17aaadavp\":0.384996555},\"Std_2\":{\"ZTF17aaadavp\":0.1838417346},\"StetsonK_1\":{\"ZTF17aaadavp\":0.925034467},\"StetsonK_2\":{\"ZTF17aaadavp\":0.9533798667},\"delta_mag_fid_1\":{\"ZTF17aaadavp\":1.0706933392},\"delta_mag_fid_2\":{\"ZTF17aaadavp\":0.4953846732},\"dmag_first_det_fid_1\":{\"ZTF17aaadavp\":1.8212002721},\"dmag_first_det_fid_2\":{\"ZTF17aaadavp\":3.9833200356},\"dmag_non_det_fid_1\":{\"ZTF17aaadavp\":2.3435938218},\"dmag_non_det_fid_2\":{\"ZTF17aaadavp\":4.4194033324},\"g-r_max\":{\"ZTF17aaadavp\":0.7272605896},\"g-r_max_corr\":{\"ZTF17aaadavp\":1.5834102949},\"g-r_mean\":{\"ZTF17aaadavp\":1.0205908881},\"g-r_mean_corr\":{\"ZTF17aaadavp\":1.8258317011},\"gal_b\":{\"ZTF17aaadavp\":-16.9395078073},\"gal_l\":{\"ZTF17aaadavp\":206.7490286483},\"last_diffmaglim_before_fid_1\":{\"ZTF17aaadavp\":20.2215995789},\"last_diffmaglim_before_fid_2\":{\"ZTF17aaadavp\":20.2250003815},\"max_diffmaglim_after_fid_1\":{\"ZTF17aaadavp\":20.6597003937},\"max_diffmaglim_after_fid_2\":{\"ZTF17aaadavp\":20.0426998138},\"max_diffmaglim_before_fid_1\":{\"ZTF17aaadavp\":20.2215995789},\"max_diffmaglim_before_fid_2\":{\"ZTF17aaadavp\":20.2250003815},\"median_diffmaglim_after_fid_1\":{\"ZTF17aaadavp\":19.5884513855},\"median_diffmaglim_after_fid_2\":{\"ZTF17aaadavp\":19.2490005493},\"median_diffmaglim_before_fid_1\":{\"ZTF17aaadavp\":19.6732997894},\"median_diffmaglim_before_fid_2\":{\"ZTF17aaadavp\":20.1656990051},\"n_non_det_after_fid_1\":{\"ZTF17aaadavp\":20.0},\"n_non_det_after_fid_2\":{\"ZTF17aaadavp\":6.0},\"n_non_det_before_fid_1\":{\"ZTF17aaadavp\":6.0},\"n_non_det_before_fid_2\":{\"ZTF17aaadavp\":2.0},\"positive_fraction_1\":{\"ZTF17aaadavp\":0.4285714286},\"positive_fraction_2\":{\"ZTF17aaadavp\":0.5555555556},\"rb\":{\"ZTF17aaadavp\":0.7707143},\"sgscore1\":{\"ZTF17aaadavp\":0.9925},\"W1-W2\":{\"ZTF17aaadavp\":0.393},\"W2-W3\":{\"ZTF17aaadavp\":1.902},\"r-W3\":{\"ZTF17aaadavp\":7.3175824537},\"r-W2\":{\"ZTF17aaadavp\":5.4155824537},\"g-W3\":{\"ZTF17aaadavp\":9.1434141548},\"g-W2\":{\"ZTF17aaadavp\":7.2414141548},\"delta_period_1\":{\"ZTF17aaadavp\":0.016283543},\"delta_period_2\":{\"ZTF17aaadavp\":0.1440647711}}'"
            ]
          },
          "execution_count": 17,
          "metadata": {},
          "output_type": "execute_result"
        }
      ],
      "source": [
        "X_train_stochastic.head(1).to_json()"
      ]
    },
    {
      "cell_type": "code",
      "execution_count": null,
      "metadata": {
        "colab": {
          "base_uri": "https://localhost:8080/",
          "height": 1000
        },
        "id": "DLpwO8dNZQE6",
        "outputId": "4e0a4d9b-482f-4f2d-cac6-ed24a3eac4e4"
      },
      "outputs": [
        {
          "data": {
            "application/vnd.google.colaboratory.intrinsic+json": {
              "type": "string"
            },
            "text/plain": [
              "'{\"Amplitude_1\":{\"ZTF20aabrydh\":0.2784774859},\"Amplitude_2\":{\"ZTF20aabrydh\":0.3179810146},\"AndersonDarling_1\":{\"ZTF20aabrydh\":0.9999789844},\"AndersonDarling_2\":{\"ZTF20aabrydh\":0.3370131468},\"Autocor_length_1\":{\"ZTF20aabrydh\":1.0},\"Autocor_length_2\":{\"ZTF20aabrydh\":1.0},\"Beyond1Std_1\":{\"ZTF20aabrydh\":0.3404255319},\"Beyond1Std_2\":{\"ZTF20aabrydh\":0.3333333333},\"Con_1\":{\"ZTF20aabrydh\":0.0},\"Con_2\":{\"ZTF20aabrydh\":0.0},\"Eta_e_1\":{\"ZTF20aabrydh\":0.5582694202},\"Eta_e_2\":{\"ZTF20aabrydh\":2.1749351997},\"ExcessVar_1\":{\"ZTF20aabrydh\":0.0001312633},\"ExcessVar_2\":{\"ZTF20aabrydh\":0.0001657375},\"GP_DRW_sigma_1\":{\"ZTF20aabrydh\":0.0358971569},\"GP_DRW_sigma_2\":{\"ZTF20aabrydh\":0.0495937957},\"GP_DRW_tau_1\":{\"ZTF20aabrydh\":1.1383234755},\"GP_DRW_tau_2\":{\"ZTF20aabrydh\":0.0004486999},\"Gskew_1\":{\"ZTF20aabrydh\":-0.0132125238},\"Gskew_2\":{\"ZTF20aabrydh\":-0.0701160233},\"Harmonics_mag_1_1\":{\"ZTF20aabrydh\":1.2110629508},\"Harmonics_mag_1_2\":{\"ZTF20aabrydh\":4.9330313352},\"Harmonics_mag_2_1\":{\"ZTF20aabrydh\":0.5705736913},\"Harmonics_mag_2_2\":{\"ZTF20aabrydh\":2.2192445495},\"Harmonics_mag_3_1\":{\"ZTF20aabrydh\":3.8466764816},\"Harmonics_mag_3_2\":{\"ZTF20aabrydh\":3.949313532},\"Harmonics_mag_4_1\":{\"ZTF20aabrydh\":3.4927586058},\"Harmonics_mag_4_2\":{\"ZTF20aabrydh\":3.3512015941},\"Harmonics_mag_5_1\":{\"ZTF20aabrydh\":3.2444059718},\"Harmonics_mag_5_2\":{\"ZTF20aabrydh\":2.1237364683},\"Harmonics_mag_6_1\":{\"ZTF20aabrydh\":2.2255804351},\"Harmonics_mag_6_2\":{\"ZTF20aabrydh\":3.0417916414},\"Harmonics_mag_7_1\":{\"ZTF20aabrydh\":5.4236809738},\"Harmonics_mag_7_2\":{\"ZTF20aabrydh\":1.4890840891},\"Harmonics_mse_1\":{\"ZTF20aabrydh\":3.786532345e-29},\"Harmonics_mse_2\":{\"ZTF20aabrydh\":3.555133146e-28},\"Harmonics_phase_2_1\":{\"ZTF20aabrydh\":0.6582272529},\"Harmonics_phase_2_2\":{\"ZTF20aabrydh\":5.3035335111},\"Harmonics_phase_3_1\":{\"ZTF20aabrydh\":1.7120618626},\"Harmonics_phase_3_2\":{\"ZTF20aabrydh\":4.6463950764},\"Harmonics_phase_4_1\":{\"ZTF20aabrydh\":5.4837458537},\"Harmonics_phase_4_2\":{\"ZTF20aabrydh\":5.0074987333},\"Harmonics_phase_5_1\":{\"ZTF20aabrydh\":5.5847600107},\"Harmonics_phase_5_2\":{\"ZTF20aabrydh\":0.125609359},\"Harmonics_phase_6_1\":{\"ZTF20aabrydh\":4.7815380944},\"Harmonics_phase_6_2\":{\"ZTF20aabrydh\":1.0680298149},\"Harmonics_phase_7_1\":{\"ZTF20aabrydh\":0.6143874063},\"Harmonics_phase_7_2\":{\"ZTF20aabrydh\":0.9606187247},\"IAR_phi_1\":{\"ZTF20aabrydh\":0.6623233713},\"IAR_phi_2\":{\"ZTF20aabrydh\":0.0},\"LinearTrend_1\":{\"ZTF20aabrydh\":0.0000205952},\"LinearTrend_2\":{\"ZTF20aabrydh\":0.0143468593},\"MHPS_high_1\":{\"ZTF20aabrydh\":0.1161102231},\"MHPS_high_2\":{\"ZTF20aabrydh\":0.0719367196},\"MHPS_low_1\":{\"ZTF20aabrydh\":0.0527830542},\"MHPS_low_2\":{\"ZTF20aabrydh\":0.0182156046},\"MHPS_ratio_1\":{\"ZTF20aabrydh\":0.4545943746},\"MHPS_ratio_2\":{\"ZTF20aabrydh\":0.253217059},\"MaxSlope_1\":{\"ZTF20aabrydh\":0.3218826732},\"MaxSlope_2\":{\"ZTF20aabrydh\":762.4003296136},\"Meanvariance_1\":{\"ZTF20aabrydh\":0.011701444},\"Meanvariance_2\":{\"ZTF20aabrydh\":0.0132576499},\"MedianAbsDev_1\":{\"ZTF20aabrydh\":0.0804798372},\"MedianAbsDev_2\":{\"ZTF20aabrydh\":0.2233485047},\"MedianBRP_1\":{\"ZTF20aabrydh\":0.3650793651},\"MedianBRP_2\":{\"ZTF20aabrydh\":0.3333333333},\"Multiband_period\":{\"ZTF20aabrydh\":0.0595107521},\"PairSlopeTrend_1\":{\"ZTF20aabrydh\":0.0},\"PairSlopeTrend_2\":{\"ZTF20aabrydh\":-0.0333333333},\"PercentAmplitude_1\":{\"ZTF20aabrydh\":0.0260152562},\"PercentAmplitude_2\":{\"ZTF20aabrydh\":0.0202541638},\"Period_fit\":{\"ZTF20aabrydh\":0.0619380673},\"Power_rate_1\\\\/2\":{\"ZTF20aabrydh\":0.024880372},\"Power_rate_1\\\\/3\":{\"ZTF20aabrydh\":0.024880372},\"Power_rate_1\\\\/4\":{\"ZTF20aabrydh\":0.024880372},\"Power_rate_2\":{\"ZTF20aabrydh\":0.0009676208},\"Power_rate_3\":{\"ZTF20aabrydh\":0.0060807653},\"Power_rate_4\":{\"ZTF20aabrydh\":0.0001681186},\"Psi_CS_1\":{\"ZTF20aabrydh\":0.3967196584},\"Psi_CS_2\":{\"ZTF20aabrydh\":0.2849715007},\"Psi_eta_1\":{\"ZTF20aabrydh\":1.4808004675},\"Psi_eta_2\":{\"ZTF20aabrydh\":2.2413585891},\"Pvar_1\":{\"ZTF20aabrydh\":1.0},\"Pvar_2\":{\"ZTF20aabrydh\":1.0},\"Q31_1\":{\"ZTF20aabrydh\":0.2627930743},\"Q31_2\":{\"ZTF20aabrydh\":0.3704744605},\"Rcs_1\":{\"ZTF20aabrydh\":0.2638509031},\"Rcs_2\":{\"ZTF20aabrydh\":0.4284539716},\"SF_ML_amplitude_1\":{\"ZTF20aabrydh\":0.2978885083},\"SF_ML_amplitude_2\":{\"ZTF20aabrydh\":0.0},\"SF_ML_gamma_1\":{\"ZTF20aabrydh\":0.0323872962},\"SF_ML_gamma_2\":{\"ZTF20aabrydh\":0.0},\"SPM_A_1\":{\"ZTF20aabrydh\":0.4601696029},\"SPM_A_2\":{\"ZTF20aabrydh\":0.3356975797},\"SPM_beta_1\":{\"ZTF20aabrydh\":19.5627858751},\"SPM_beta_2\":{\"ZTF20aabrydh\":16.7299259089},\"SPM_chi_1\":{\"ZTF20aabrydh\":23.3482594343},\"SPM_chi_2\":{\"ZTF20aabrydh\":35.7361431383},\"SPM_gamma_1\":{\"ZTF20aabrydh\":0.8024436656},\"SPM_gamma_2\":{\"ZTF20aabrydh\":0.0000845368},\"SPM_t0_1\":{\"ZTF20aabrydh\":4.9930931735},\"SPM_t0_2\":{\"ZTF20aabrydh\":-3.5428872023},\"SPM_tau_fall_1\":{\"ZTF20aabrydh\":39.172292207},\"SPM_tau_fall_2\":{\"ZTF20aabrydh\":6.0644877211},\"SPM_tau_rise_1\":{\"ZTF20aabrydh\":6.1266728767},\"SPM_tau_rise_2\":{\"ZTF20aabrydh\":15.0196272716},\"Skew_1\":{\"ZTF20aabrydh\":-0.0654893713},\"Skew_2\":{\"ZTF20aabrydh\":-0.150022998},\"SmallKurtosis_1\":{\"ZTF20aabrydh\":-0.3283852168},\"SmallKurtosis_2\":{\"ZTF20aabrydh\":0.4696505177},\"Std_1\":{\"ZTF20aabrydh\":0.1883664146},\"Std_2\":{\"ZTF20aabrydh\":0.2306257221},\"StetsonK_1\":{\"ZTF20aabrydh\":0.8558092114},\"StetsonK_2\":{\"ZTF20aabrydh\":0.910417602},\"delta_mag_fid_1\":{\"ZTF20aabrydh\":0.2994165305},\"delta_mag_fid_2\":{\"ZTF20aabrydh\":0.6359620293},\"dmag_first_det_fid_1\":{\"ZTF20aabrydh\":1.9155693706},\"dmag_first_det_fid_2\":{\"ZTF20aabrydh\":1.1582845623},\"dmag_non_det_fid_1\":{\"ZTF20aabrydh\":1.7105856478},\"dmag_non_det_fid_2\":{\"ZTF20aabrydh\":1.2242480618},\"g-r_max\":{\"ZTF20aabrydh\":0.0894794464},\"g-r_max_corr\":{\"ZTF20aabrydh\":0.4282112879},\"g-r_mean\":{\"ZTF20aabrydh\":0.0195028305},\"g-r_mean_corr\":{\"ZTF20aabrydh\":0.1834016789},\"gal_b\":{\"ZTF20aabrydh\":-83.9624289485},\"gal_l\":{\"ZTF20aabrydh\":218.999396281},\"last_diffmaglim_before_fid_1\":{\"ZTF20aabrydh\":19.7206001282},\"last_diffmaglim_before_fid_2\":{\"ZTF20aabrydh\":18.7525005341},\"max_diffmaglim_after_fid_1\":{\"ZTF20aabrydh\":18.1830997467},\"max_diffmaglim_after_fid_2\":{\"ZTF20aabrydh\":20.6760997772},\"max_diffmaglim_before_fid_1\":{\"ZTF20aabrydh\":19.7206001282},\"max_diffmaglim_before_fid_2\":{\"ZTF20aabrydh\":19.3402996063},\"median_diffmaglim_after_fid_1\":{\"ZTF20aabrydh\":18.1830997467},\"median_diffmaglim_after_fid_2\":{\"ZTF20aabrydh\":19.9169502258},\"median_diffmaglim_before_fid_1\":{\"ZTF20aabrydh\":19.2161998749},\"median_diffmaglim_before_fid_2\":{\"ZTF20aabrydh\":18.301651001},\"n_non_det_after_fid_1\":{\"ZTF20aabrydh\":1.0},\"n_non_det_after_fid_2\":{\"ZTF20aabrydh\":0.0},\"n_non_det_before_fid_1\":{\"ZTF20aabrydh\":3.0},\"n_non_det_before_fid_2\":{\"ZTF20aabrydh\":8.0},\"positive_fraction_1\":{\"ZTF20aabrydh\":1.0},\"positive_fraction_2\":{\"ZTF20aabrydh\":1.0},\"rb\":{\"ZTF20aabrydh\":0.91},\"sgscore1\":{\"ZTF20aabrydh\":0.0769881},\"W1-W2\":{\"ZTF20aabrydh\":0.201},\"W2-W3\":{\"ZTF20aabrydh\":3.315},\"r-W3\":{\"ZTF20aabrydh\":7.249671481},\"r-W2\":{\"ZTF20aabrydh\":3.934671481},\"g-W3\":{\"ZTF20aabrydh\":5.2668500778},\"g-W2\":{\"ZTF20aabrydh\":3.0480838993},\"delta_period_1\":{\"ZTF20aabrydh\":0.0000562527},\"delta_period_2\":{\"ZTF20aabrydh\":0.0076400343}}'"
            ]
          },
          "execution_count": 18,
          "metadata": {},
          "output_type": "execute_result"
        }
      ],
      "source": [
        "X_train_transient.head(1).to_json()"
      ]
    },
    {
      "cell_type": "code",
      "execution_count": null,
      "metadata": {
        "colab": {
          "base_uri": "https://localhost:8080/"
        },
        "id": "nkNsUhveECVF",
        "outputId": "445a2c19-c845-4c38-87b8-7d52b3a0c675"
      },
      "outputs": [
        {
          "name": "stdout",
          "output_type": "stream",
          "text": [
            "Index(['ZTF18acuaixx', 'ZTF18aaadvic', 'ZTF18aakytol', 'ZTF18aaadlhv',\n",
            "       'ZTF20aahpxzz', 'ZTF18acsntxy', 'ZTF18abcxbqg', 'ZTF18aaimtmw',\n",
            "       'ZTF18acrtlbf', 'ZTF18aabylqv',\n",
            "       ...\n",
            "       'ZTF18aabhadu', 'ZTF18acwyxkt', 'ZTF18aaiiodk', 'ZTF18aboeina',\n",
            "       'ZTF20aawgkxw', 'ZTF19aatyrls', 'ZTF18abasjxr', 'ZTF18acbwbbs',\n",
            "       'ZTF18acurjpl', 'ZTF19aapzvul'],\n",
            "      dtype='object', name='oid', length=98796)\n",
            "Index(['ZTF17aaafpfj', 'ZTF18aauyncl', 'ZTF18aaacxod', 'ZTF17aabsips',\n",
            "       'ZTF17aaaqstr', 'ZTF18acvgxeg', 'ZTF18abxypol', 'ZTF18aadeizd',\n",
            "       'ZTF18acvwddx', 'ZTF18aajryby',\n",
            "       ...\n",
            "       'ZTF18abutdrn', 'ZTF18acrunoq', 'ZTF18aczdnnx', 'ZTF18aaaftdt',\n",
            "       'ZTF18acrultl', 'ZTF18abdlijz', 'ZTF18acyygbv', 'ZTF18abvexml',\n",
            "       'ZTF18abgsodl', 'ZTF18aaxplcq'],\n",
            "      dtype='object', name='oid', length=24700)\n"
          ]
        }
      ],
      "source": [
        "print(X_train_hierarchical.index)\n",
        "print(X_test_hierarchical.index)\n",
        "\n",
        "os.system('mkdir final_BHRF_model')\n",
        "\n",
        "np.save('final_BHRF_model/labels_training_sample', X_train_hierarchical.index.values)\n",
        "np.save('final_BHRF_model/labels_testint_sample', X_test_hierarchical.index.values)"
      ]
    },
    {
      "cell_type": "code",
      "execution_count": null,
      "metadata": {
        "id": "vC-xrHB1SVQJ"
      },
      "outputs": [],
      "source": [
        "#where the RF models are saved\n",
        "date='20230630'\n",
        "\n",
        "model_first_layer = 'final_BHRF_model/hierarchical_level_RF_model.pkl'\n",
        "model_first_layer_xgb = 'final_BHRF_model/hierarchical_level_xgb_model.pkl'\n",
        "model_first_layer_cb = 'final_BHRF_model/hierarchical_level_cb_model.pkl'\n",
        "model_first_layer_lgbm = 'final_BHRF_model/hierarchical_level_lgbm_model.pkl'\n",
        "model_periodic_layer = 'final_BHRF_model/periodic_level_RF_model.pkl'\n",
        "model_periodic_layer_xgb = 'final_BHRF_model/periodic_level_xgb_model.pkl'\n",
        "model_periodic_layer_cb = 'final_BHRF_model/periodic_level_cb_model.pkl'\n",
        "model_periodic_layer_lgbm = 'final_BHRF_model/periodic_level_lgbm_model.pkl'\n",
        "model_transient_layer = 'final_BHRF_model/transient_level_RF_model.pkl'\n",
        "model_transient_layer_xgb = 'final_BHRF_model/transient_level_xgb_model.pkl'\n",
        "model_transient_layer_cb = 'final_BHRF_model/transient_level_cb_model.pkl'\n",
        "model_transient_layer_lgbm = 'final_BHRF_model/transient_level_lgbm_model.pkl'\n",
        "model_stochastic_layer = 'final_BHRF_model/stochastic_level_RF_model.pkl'\n",
        "model_stochastic_layer_xgb = 'final_BHRF_model/stochastic_level_xgb_model.pkl'\n",
        "model_stochastic_layer_cb = 'final_BHRF_model/stochastic_level_cb_model.pkl'\n",
        "model_stochastic_layer_lgbm = 'final_BHRF_model/stochastic_level_lgbm_model.pkl'\n",
        "\n",
        "features_pickle = 'final_BHRF_model/features_RF_model.pkl'\n",
        "\n",
        "#confusion matrixes\n",
        "conf_matrix_name_first_layer = 'stat_prob_hierRF_model_2/confusion_matrix_rf_model_2_hierarchical_layer_'+date\n",
        "conf_matrix_name_second_layer = 'stat_prob_hierRF_model_2/confusion_matrix_rf_model_2_multiclass_'+date\n",
        "\n",
        "\n",
        "#feature importances\n",
        "feature_importance_name_first_layer = './paper_late_classifier/feature_importance_rf_model_2_hierarchical_layer_'+date+'.pdf'\n",
        "feature_importance_name_periodic_layer = './paper_late_classifier/feature_importance_rf_model_2_periodic_layer_'+date+'.pdf'\n",
        "feature_importance_name_transient_layer = './paper_late_classifier/feature_importance_rf_model_2_transient_layer_'+date+'.pdf'\n",
        "feature_importance_name_stochastic_layer = './paper_late_classifier/feature_importance_rf_model_2_stochastic_layer_'+date+'.pdf'"
      ]
    },
    {
      "cell_type": "markdown",
      "metadata": {
        "id": "MEaMeRCnECVF"
      },
      "source": [
        "  ## Balanced random forest\n",
        "  \n",
        "  ### Top level: separating Periodic, Stochastic and Transients:"
      ]
    },
    {
      "cell_type": "code",
      "execution_count": null,
      "metadata": {
        "colab": {
          "base_uri": "https://localhost:8080/"
        },
        "id": "YLSJr6clECVG",
        "outputId": "81987f89-c781-4e4f-dfb6-3ef09c388378"
      },
      "outputs": [
        {
          "name": "stdout",
          "output_type": "stream",
          "text": [
            "['Periodic' 'Stochastic' 'Transient']\n",
            "Accuracy: 0.987165991902834\n",
            "Balanced accuracy: 0.9868576575752644\n"
          ]
        }
      ],
      "source": [
        "#Training first level of the RF model\n",
        "\n",
        "rf_model_hierarchical = RandomForestClassifier(\n",
        "            n_estimators=500,\n",
        "            max_features='auto',\n",
        "            max_depth=None,\n",
        "            n_jobs=-1,\n",
        "            bootstrap=True,\n",
        "            class_weight='balanced_subsample',\n",
        "            criterion='entropy',\n",
        "            min_samples_split=2,\n",
        "            min_samples_leaf=1)\n",
        "\n",
        "\n",
        "rf_model_hierarchical.fit(X_train_hierarchical, y_train_hierarchical)\n",
        "\n",
        "#testing first level performance\n",
        "\n",
        "y_true, y_pred = y_test_hierarchical, rf_model_hierarchical.predict(X_test_hierarchical)\n",
        "y_pred_proba_hier = rf_model_hierarchical.predict_proba(X_test_hierarchical)\n",
        "\n",
        "classes_order_proba_hierarchical = rf_model_hierarchical.classes_\n",
        "print(classes_order_proba_hierarchical)\n",
        "\n",
        "\n",
        "print(\"Accuracy:\", metrics.accuracy_score(y_true, y_pred))\n",
        "print(\"Balanced accuracy:\", metrics.balanced_accuracy_score(y_true, y_pred))\n",
        "\n",
        "#Dumping trained model\n",
        "\n",
        "features_hierarchical = list(X_train_hierarchical)\n",
        "\n",
        "with open(model_first_layer, 'wb') as f:\n",
        "            pickle.dump(\n",
        "                rf_model_hierarchical,\n",
        "                f,\n",
        "                pickle.HIGHEST_PROTOCOL)"
      ]
    },
    {
      "cell_type": "code",
      "execution_count": null,
      "metadata": {
        "colab": {
          "base_uri": "https://localhost:8080/",
          "height": 977
        },
        "id": "Z7RaZG6XECVG",
        "outputId": "4ca47c4a-9634-465a-d3e1-c57e8b661f3b"
      },
      "outputs": [
        {
          "name": "stdout",
          "output_type": "stream",
          "text": [
            "[[  344     0     0]\n",
            " [   16  6697   229]\n",
            " [   10    62 17342]]\n",
            "Normalized confusion matrix\n",
            "[[100.   0.   0.]\n",
            " [  0.  96.   3.]\n",
            " [  0.   0. 100.]]\n"
          ]
        },
        {
          "data": {
            "image/png": "[encoded data removed]",
            "text/plain": [
              "<Figure size 1200x1000 with 1 Axes>"
            ]
          },
          "metadata": {},
          "output_type": "display_data"
        }
      ],
      "source": [
        "#plotting confusion matrix\n",
        "cnf_matrix = metrics.confusion_matrix(y_true, y_pred, labels=cm_classes_hierachical)\n",
        "print(cnf_matrix)\n",
        "plot_confusion_matrix(cnf_matrix,cm_classes_hierachical,'training_conf_matrix_hierarchical_level.pdf')"
      ]
    },
    {
      "cell_type": "code",
      "execution_count": null,
      "metadata": {
        "colab": {
          "base_uri": "https://localhost:8080/",
          "height": 791
        },
        "id": "y1rs04QNECVG",
        "outputId": "6e80fa1d-2f06-4bd5-de88-814512030142"
      },
      "outputs": [
        {
          "name": "stdout",
          "output_type": "stream",
          "text": [
            "W1-W2 & 0.086\n",
            "positive_fraction_1 & 0.056\n",
            "sgscore1 & 0.049\n",
            "positive_fraction_2 & 0.048\n",
            "LinearTrend_2 & 0.035\n",
            "n_non_det_after_fid_2 & 0.034\n",
            "SPM_tau_rise_1 & 0.031\n",
            "g-W3 & 0.031\n",
            "SPM_tau_rise_2 & 0.030\n",
            "g-W2 & 0.028\n",
            "SPM_beta_1 & 0.027\n",
            "ExcessVar_1 & 0.027\n",
            "SPM_chi_2 & 0.025\n",
            "r-W2 & 0.022\n",
            "W2-W3 & 0.022\n",
            "SPM_A_2 & 0.021\n",
            "SPM_tau_fall_1 & 0.019\n",
            "r-W3 & 0.017\n",
            "Meanvariance_1 & 0.017\n",
            "Pvar_1 & 0.015\n",
            "SPM_A_1 & 0.015\n",
            "SPM_beta_2 & 0.014\n",
            "Std_1 & 0.012\n",
            "SF_ML_amplitude_2 & 0.012\n",
            "Rcs_2 & 0.011\n",
            "SPM_chi_1 & 0.011\n",
            "GP_DRW_sigma_1 & 0.011\n",
            "LinearTrend_1 & 0.010\n",
            "ExcessVar_2 & 0.010\n",
            "Q31_1 & 0.009\n"
          ]
        },
        {
          "data": {
            "image/png": "[encoded data removed]",
            "text/plain": [
              "<Figure size 1600x500 with 1 Axes>"
            ]
          },
          "metadata": {},
          "output_type": "display_data"
        }
      ],
      "source": [
        "#plotting feature importance\n",
        "plot_feature_importances(rf_model_hierarchical, features_hierarchical, 'final_BHRF_model/feature_ranking_hierarchical_level.pdf')"
      ]
    },
    {
      "cell_type": "code",
      "execution_count": null,
      "metadata": {
        "colab": {
          "base_uri": "https://localhost:8080/",
          "height": 315
        },
        "id": "oNc7e8kCdiYE",
        "outputId": "eb08bfa8-7207-490a-d3a8-fd9105b4dee7"
      },
      "outputs": [
        {
          "name": "stdout",
          "output_type": "stream",
          "text": [
            "Requirement already satisfied: xgboost in /usr/local/lib/python3.10/dist-packages (1.7.6)\n",
            "Requirement already satisfied: numpy in /usr/local/lib/python3.10/dist-packages (from xgboost) (1.22.4)\n",
            "Requirement already satisfied: scipy in /usr/local/lib/python3.10/dist-packages (from xgboost) (1.10.1)\n"
          ]
        },
        {
          "data": {
            "text/html": [
              "<style>#sk-container-id-1 {color: black;background-color: white;}#sk-container-id-1 pre{padding: 0;}#sk-container-id-1 div.sk-toggleable {background-color: white;}#sk-container-id-1 label.sk-toggleable__label {cursor: pointer;display: block;width: 100%;margin-bottom: 0;padding: 0.3em;box-sizing: border-box;text-align: center;}#sk-container-id-1 label.sk-toggleable__label-arrow:before {content: \"▸\";float: left;margin-right: 0.25em;color: #696969;}#sk-container-id-1 label.sk-toggleable__label-arrow:hover:before {color: black;}#sk-container-id-1 div.sk-estimator:hover label.sk-toggleable__label-arrow:before {color: black;}#sk-container-id-1 div.sk-toggleable__content {max-height: 0;max-width: 0;overflow: hidden;text-align: left;background-color: #f0f8ff;}#sk-container-id-1 div.sk-toggleable__content pre {margin: 0.2em;color: black;border-radius: 0.25em;background-color: #f0f8ff;}#sk-container-id-1 input.sk-toggleable__control:checked~div.sk-toggleable__content {max-height: 200px;max-width: 100%;overflow: auto;}#sk-container-id-1 input.sk-toggleable__control:checked~label.sk-toggleable__label-arrow:before {content: \"▾\";}#sk-container-id-1 div.sk-estimator input.sk-toggleable__control:checked~label.sk-toggleable__label {background-color: #d4ebff;}#sk-container-id-1 div.sk-label input.sk-toggleable__control:checked~label.sk-toggleable__label {background-color: #d4ebff;}#sk-container-id-1 input.sk-hidden--visually {border: 0;clip: rect(1px 1px 1px 1px);clip: rect(1px, 1px, 1px, 1px);height: 1px;margin: -1px;overflow: hidden;padding: 0;position: absolute;width: 1px;}#sk-container-id-1 div.sk-estimator {font-family: monospace;background-color: #f0f8ff;border: 1px dotted black;border-radius: 0.25em;box-sizing: border-box;margin-bottom: 0.5em;}#sk-container-id-1 div.sk-estimator:hover {background-color: #d4ebff;}#sk-container-id-1 div.sk-parallel-item::after {content: \"\";width: 100%;border-bottom: 1px solid gray;flex-grow: 1;}#sk-container-id-1 div.sk-label:hover label.sk-toggleable__label {background-color: #d4ebff;}#sk-container-id-1 div.sk-serial::before {content: \"\";position: absolute;border-left: 1px solid gray;box-sizing: border-box;top: 0;bottom: 0;left: 50%;z-index: 0;}#sk-container-id-1 div.sk-serial {display: flex;flex-direction: column;align-items: center;background-color: white;padding-right: 0.2em;padding-left: 0.2em;position: relative;}#sk-container-id-1 div.sk-item {position: relative;z-index: 1;}#sk-container-id-1 div.sk-parallel {display: flex;align-items: stretch;justify-content: center;background-color: white;position: relative;}#sk-container-id-1 div.sk-item::before, #sk-container-id-1 div.sk-parallel-item::before {content: \"\";position: absolute;border-left: 1px solid gray;box-sizing: border-box;top: 0;bottom: 0;left: 50%;z-index: -1;}#sk-container-id-1 div.sk-parallel-item {display: flex;flex-direction: column;z-index: 1;position: relative;background-color: white;}#sk-container-id-1 div.sk-parallel-item:first-child::after {align-self: flex-end;width: 50%;}#sk-container-id-1 div.sk-parallel-item:last-child::after {align-self: flex-start;width: 50%;}#sk-container-id-1 div.sk-parallel-item:only-child::after {width: 0;}#sk-container-id-1 div.sk-dashed-wrapped {border: 1px dashed gray;margin: 0 0.4em 0.5em 0.4em;box-sizing: border-box;padding-bottom: 0.4em;background-color: white;}#sk-container-id-1 div.sk-label label {font-family: monospace;font-weight: bold;display: inline-block;line-height: 1.2em;}#sk-container-id-1 div.sk-label-container {text-align: center;}#sk-container-id-1 div.sk-container {/* jupyter's `normalize.less` sets `[hidden] { display: none; }` but bootstrap.min.css set `[hidden] { display: none !important; }` so we also need the `!important` here to be able to override the default hidden behavior on the sphinx rendered scikit-learn.org. See: https://github.com/scikit-learn/scikit-learn/issues/21755 */display: inline-block !important;position: relative;}#sk-container-id-1 div.sk-text-repr-fallback {display: none;}</style><div id=\"sk-container-id-1\" class=\"sk-top-container\"><div class=\"sk-text-repr-fallback\"><pre>XGBClassifier(base_score=None, booster=None, callbacks=None,\n",
              "              colsample_bylevel=None, colsample_bynode=None,\n",
              "              colsample_bytree=None, early_stopping_rounds=None,\n",
              "              enable_categorical=False, eval_metric=None, feature_types=None,\n",
              "              gamma=None, gpu_id=None, grow_policy=None, importance_type=None,\n",
              "              interaction_constraints=None, learning_rate=None, max_bin=None,\n",
              "              max_cat_threshold=None, max_cat_to_onehot=None,\n",
              "              max_delta_step=None, max_depth=None, max_leaves=None,\n",
              "              min_child_weight=None, missing=nan, monotone_constraints=None,\n",
              "              n_estimators=100, n_jobs=None, num_parallel_tree=None,\n",
              "              objective=&#x27;multi:softprob&#x27;, predictor=None, ...)</pre><b>In a Jupyter environment, please rerun this cell to show the HTML representation or trust the notebook. <br />On GitHub, the HTML representation is unable to render, please try loading this page with nbviewer.org.</b></div><div class=\"sk-container\" hidden><div class=\"sk-item\"><div class=\"sk-estimator sk-toggleable\"><input class=\"sk-toggleable__control sk-hidden--visually\" id=\"sk-estimator-id-1\" type=\"checkbox\" checked><label for=\"sk-estimator-id-1\" class=\"sk-toggleable__label sk-toggleable__label-arrow\">XGBClassifier</label><div class=\"sk-toggleable__content\"><pre>XGBClassifier(base_score=None, booster=None, callbacks=None,\n",
              "              colsample_bylevel=None, colsample_bynode=None,\n",
              "              colsample_bytree=None, early_stopping_rounds=None,\n",
              "              enable_categorical=False, eval_metric=None, feature_types=None,\n",
              "              gamma=None, gpu_id=None, grow_policy=None, importance_type=None,\n",
              "              interaction_constraints=None, learning_rate=None, max_bin=None,\n",
              "              max_cat_threshold=None, max_cat_to_onehot=None,\n",
              "              max_delta_step=None, max_depth=None, max_leaves=None,\n",
              "              min_child_weight=None, missing=nan, monotone_constraints=None,\n",
              "              n_estimators=100, n_jobs=None, num_parallel_tree=None,\n",
              "              objective=&#x27;multi:softprob&#x27;, predictor=None, ...)</pre></div></div></div></div></div>"
            ],
            "text/plain": [
              "XGBClassifier(base_score=None, booster=None, callbacks=None,\n",
              "              colsample_bylevel=None, colsample_bynode=None,\n",
              "              colsample_bytree=None, early_stopping_rounds=None,\n",
              "              enable_categorical=False, eval_metric=None, feature_types=None,\n",
              "              gamma=None, gpu_id=None, grow_policy=None, importance_type=None,\n",
              "              interaction_constraints=None, learning_rate=None, max_bin=None,\n",
              "              max_cat_threshold=None, max_cat_to_onehot=None,\n",
              "              max_delta_step=None, max_depth=None, max_leaves=None,\n",
              "              min_child_weight=None, missing=nan, monotone_constraints=None,\n",
              "              n_estimators=100, n_jobs=None, num_parallel_tree=None,\n",
              "              objective='multi:softprob', predictor=None, ...)"
            ]
          },
          "execution_count": 18,
          "metadata": {},
          "output_type": "execute_result"
        }
      ],
      "source": [
        "#Try gradient boosting\n",
        "! pip install xgboost\n",
        "import xgboost as xgb\n",
        "from xgboost.sklearn import XGBClassifier\n",
        "\n",
        "\n",
        "xgb_clas = XGBClassifier()\n",
        "y_train_hierarchical1 = y_train_hierarchical.replace(['Periodic', 'Stochastic', 'Transient'], [0, 1, 2])\n",
        "\n",
        "xgb_clas.fit(X_train_hierarchical, y_train_hierarchical1)\n"
      ]
    },
    {
      "cell_type": "code",
      "execution_count": null,
      "metadata": {
        "colab": {
          "base_uri": "https://localhost:8080/"
        },
        "id": "bd9Bp_oOmCVL",
        "outputId": "4fd372d2-b0b0-410e-810f-21b21e93974c"
      },
      "outputs": [
        {
          "name": "stdout",
          "output_type": "stream",
          "text": [
            "Accuracy: 0.9938461538461538\n",
            "Balanced accuracy: 0.9874096120882522\n"
          ]
        }
      ],
      "source": [
        "y_true, y_pred = y_test_hierarchical.replace(['Periodic', 'Stochastic', 'Transient'], [0, 1, 2]), xgb_clas.predict(X_test_hierarchical)\n",
        "print(\"Accuracy:\", metrics.accuracy_score(y_true, y_pred))\n",
        "print(\"Balanced accuracy:\", metrics.balanced_accuracy_score(y_true, y_pred))\n"
      ]
    },
    {
      "cell_type": "code",
      "execution_count": null,
      "metadata": {
        "colab": {
          "base_uri": "https://localhost:8080/"
        },
        "id": "xmAeJlKf413Z",
        "outputId": "01f14626-5011-4620-85a8-b5d3d21ed9d4"
      },
      "outputs": [
        {
          "name": "stdout",
          "output_type": "stream",
          "text": [
            "Collecting catboost\n",
            "  Downloading catboost-1.2-cp310-cp310-manylinux2014_x86_64.whl (98.6 MB)\n",
            "\u001b[2K     \u001b[90m━━━━━━━━━━━━━━━━━━━━━━━━━━━━━━━━━━━━━━━━\u001b[0m \u001b[32m98.6/98.6 MB\u001b[0m \u001b[31m3.8 MB/s\u001b[0m eta \u001b[36m0:00:00\u001b[0m\n",
            "\u001b[?25hRequirement already satisfied: graphviz in /usr/local/lib/python3.10/dist-packages (from catboost) (0.20.1)\n",
            "Requirement already satisfied: matplotlib in /usr/local/lib/python3.10/dist-packages (from catboost) (3.7.1)\n",
            "Requirement already satisfied: numpy>=1.16.0 in /usr/local/lib/python3.10/dist-packages (from catboost) (1.22.4)\n",
            "Requirement already satisfied: pandas>=0.24 in /usr/local/lib/python3.10/dist-packages (from catboost) (1.5.3)\n",
            "Requirement already satisfied: scipy in /usr/local/lib/python3.10/dist-packages (from catboost) (1.10.1)\n",
            "Requirement already satisfied: plotly in /usr/local/lib/python3.10/dist-packages (from catboost) (5.13.1)\n",
            "Requirement already satisfied: six in /usr/local/lib/python3.10/dist-packages (from catboost) (1.16.0)\n",
            "Requirement already satisfied: python-dateutil>=2.8.1 in /usr/local/lib/python3.10/dist-packages (from pandas>=0.24->catboost) (2.8.2)\n",
            "Requirement already satisfied: pytz>=2020.1 in /usr/local/lib/python3.10/dist-packages (from pandas>=0.24->catboost) (2022.7.1)\n",
            "Requirement already satisfied: contourpy>=1.0.1 in /usr/local/lib/python3.10/dist-packages (from matplotlib->catboost) (1.1.0)\n",
            "Requirement already satisfied: cycler>=0.10 in /usr/local/lib/python3.10/dist-packages (from matplotlib->catboost) (0.11.0)\n",
            "Requirement already satisfied: fonttools>=4.22.0 in /usr/local/lib/python3.10/dist-packages (from matplotlib->catboost) (4.40.0)\n",
            "Requirement already satisfied: kiwisolver>=1.0.1 in /usr/local/lib/python3.10/dist-packages (from matplotlib->catboost) (1.4.4)\n",
            "Requirement already satisfied: packaging>=20.0 in /usr/local/lib/python3.10/dist-packages (from matplotlib->catboost) (23.1)\n",
            "Requirement already satisfied: pillow>=6.2.0 in /usr/local/lib/python3.10/dist-packages (from matplotlib->catboost) (8.4.0)\n",
            "Requirement already satisfied: pyparsing>=2.3.1 in /usr/local/lib/python3.10/dist-packages (from matplotlib->catboost) (3.1.0)\n",
            "Requirement already satisfied: tenacity>=6.2.0 in /usr/local/lib/python3.10/dist-packages (from plotly->catboost) (8.2.2)\n",
            "Installing collected packages: catboost\n",
            "Successfully installed catboost-1.2\n"
          ]
        },
        {
          "data": {
            "text/plain": [
              "<catboost.core.CatBoostClassifier at 0x7fbd2aa11870>"
            ]
          },
          "execution_count": 20,
          "metadata": {},
          "output_type": "execute_result"
        }
      ],
      "source": [
        "#CatBoost\n",
        "\n",
        "! pip install catboost\n",
        "from catboost import CatBoostClassifier\n",
        "\n",
        "cb_clas = CatBoostClassifier(logging_level='Silent')\n",
        "\n",
        "cb_clas.fit(X_train_hierarchical, y_train_hierarchical)\n"
      ]
    },
    {
      "cell_type": "code",
      "execution_count": null,
      "metadata": {
        "colab": {
          "base_uri": "https://localhost:8080/"
        },
        "id": "U4V8In-I5MJz",
        "outputId": "d4f80322-7794-40fb-d573-5309c7245678"
      },
      "outputs": [
        {
          "name": "stdout",
          "output_type": "stream",
          "text": [
            "Accuracy: 0.9931174089068826\n",
            "Balanced accuracy: 0.9858264590133374\n"
          ]
        }
      ],
      "source": [
        "y_true, y_pred = y_test_hierarchical, cb_clas.predict(X_test_hierarchical)\n",
        "print(\"Accuracy:\", metrics.accuracy_score(y_true, y_pred))\n",
        "print(\"Balanced accuracy:\", metrics.balanced_accuracy_score(y_true, y_pred))"
      ]
    },
    {
      "cell_type": "code",
      "execution_count": null,
      "metadata": {
        "colab": {
          "base_uri": "https://localhost:8080/",
          "height": 213
        },
        "id": "5cCPPDtF5SPk",
        "outputId": "22d7837b-391b-4110-d800-ef873a38e2b4"
      },
      "outputs": [
        {
          "name": "stdout",
          "output_type": "stream",
          "text": [
            "Requirement already satisfied: lightgbm in /usr/local/lib/python3.10/dist-packages (3.3.5)\n",
            "Requirement already satisfied: wheel in /usr/local/lib/python3.10/dist-packages (from lightgbm) (0.40.0)\n",
            "Requirement already satisfied: numpy in /usr/local/lib/python3.10/dist-packages (from lightgbm) (1.22.4)\n",
            "Requirement already satisfied: scipy in /usr/local/lib/python3.10/dist-packages (from lightgbm) (1.10.1)\n",
            "Requirement already satisfied: scikit-learn!=0.22.0 in /usr/local/lib/python3.10/dist-packages (from lightgbm) (1.2.2)\n",
            "Requirement already satisfied: joblib>=1.1.1 in /usr/local/lib/python3.10/dist-packages (from scikit-learn!=0.22.0->lightgbm) (1.2.0)\n",
            "Requirement already satisfied: threadpoolctl>=2.0.0 in /usr/local/lib/python3.10/dist-packages (from scikit-learn!=0.22.0->lightgbm) (3.1.0)\n"
          ]
        },
        {
          "data": {
            "text/html": [
              "<style>#sk-container-id-2 {color: black;background-color: white;}#sk-container-id-2 pre{padding: 0;}#sk-container-id-2 div.sk-toggleable {background-color: white;}#sk-container-id-2 label.sk-toggleable__label {cursor: pointer;display: block;width: 100%;margin-bottom: 0;padding: 0.3em;box-sizing: border-box;text-align: center;}#sk-container-id-2 label.sk-toggleable__label-arrow:before {content: \"▸\";float: left;margin-right: 0.25em;color: #696969;}#sk-container-id-2 label.sk-toggleable__label-arrow:hover:before {color: black;}#sk-container-id-2 div.sk-estimator:hover label.sk-toggleable__label-arrow:before {color: black;}#sk-container-id-2 div.sk-toggleable__content {max-height: 0;max-width: 0;overflow: hidden;text-align: left;background-color: #f0f8ff;}#sk-container-id-2 div.sk-toggleable__content pre {margin: 0.2em;color: black;border-radius: 0.25em;background-color: #f0f8ff;}#sk-container-id-2 input.sk-toggleable__control:checked~div.sk-toggleable__content {max-height: 200px;max-width: 100%;overflow: auto;}#sk-container-id-2 input.sk-toggleable__control:checked~label.sk-toggleable__label-arrow:before {content: \"▾\";}#sk-container-id-2 div.sk-estimator input.sk-toggleable__control:checked~label.sk-toggleable__label {background-color: #d4ebff;}#sk-container-id-2 div.sk-label input.sk-toggleable__control:checked~label.sk-toggleable__label {background-color: #d4ebff;}#sk-container-id-2 input.sk-hidden--visually {border: 0;clip: rect(1px 1px 1px 1px);clip: rect(1px, 1px, 1px, 1px);height: 1px;margin: -1px;overflow: hidden;padding: 0;position: absolute;width: 1px;}#sk-container-id-2 div.sk-estimator {font-family: monospace;background-color: #f0f8ff;border: 1px dotted black;border-radius: 0.25em;box-sizing: border-box;margin-bottom: 0.5em;}#sk-container-id-2 div.sk-estimator:hover {background-color: #d4ebff;}#sk-container-id-2 div.sk-parallel-item::after {content: \"\";width: 100%;border-bottom: 1px solid gray;flex-grow: 1;}#sk-container-id-2 div.sk-label:hover label.sk-toggleable__label {background-color: #d4ebff;}#sk-container-id-2 div.sk-serial::before {content: \"\";position: absolute;border-left: 1px solid gray;box-sizing: border-box;top: 0;bottom: 0;left: 50%;z-index: 0;}#sk-container-id-2 div.sk-serial {display: flex;flex-direction: column;align-items: center;background-color: white;padding-right: 0.2em;padding-left: 0.2em;position: relative;}#sk-container-id-2 div.sk-item {position: relative;z-index: 1;}#sk-container-id-2 div.sk-parallel {display: flex;align-items: stretch;justify-content: center;background-color: white;position: relative;}#sk-container-id-2 div.sk-item::before, #sk-container-id-2 div.sk-parallel-item::before {content: \"\";position: absolute;border-left: 1px solid gray;box-sizing: border-box;top: 0;bottom: 0;left: 50%;z-index: -1;}#sk-container-id-2 div.sk-parallel-item {display: flex;flex-direction: column;z-index: 1;position: relative;background-color: white;}#sk-container-id-2 div.sk-parallel-item:first-child::after {align-self: flex-end;width: 50%;}#sk-container-id-2 div.sk-parallel-item:last-child::after {align-self: flex-start;width: 50%;}#sk-container-id-2 div.sk-parallel-item:only-child::after {width: 0;}#sk-container-id-2 div.sk-dashed-wrapped {border: 1px dashed gray;margin: 0 0.4em 0.5em 0.4em;box-sizing: border-box;padding-bottom: 0.4em;background-color: white;}#sk-container-id-2 div.sk-label label {font-family: monospace;font-weight: bold;display: inline-block;line-height: 1.2em;}#sk-container-id-2 div.sk-label-container {text-align: center;}#sk-container-id-2 div.sk-container {/* jupyter's `normalize.less` sets `[hidden] { display: none; }` but bootstrap.min.css set `[hidden] { display: none !important; }` so we also need the `!important` here to be able to override the default hidden behavior on the sphinx rendered scikit-learn.org. See: https://github.com/scikit-learn/scikit-learn/issues/21755 */display: inline-block !important;position: relative;}#sk-container-id-2 div.sk-text-repr-fallback {display: none;}</style><div id=\"sk-container-id-2\" class=\"sk-top-container\"><div class=\"sk-text-repr-fallback\"><pre>LGBMClassifier()</pre><b>In a Jupyter environment, please rerun this cell to show the HTML representation or trust the notebook. <br />On GitHub, the HTML representation is unable to render, please try loading this page with nbviewer.org.</b></div><div class=\"sk-container\" hidden><div class=\"sk-item\"><div class=\"sk-estimator sk-toggleable\"><input class=\"sk-toggleable__control sk-hidden--visually\" id=\"sk-estimator-id-2\" type=\"checkbox\" checked><label for=\"sk-estimator-id-2\" class=\"sk-toggleable__label sk-toggleable__label-arrow\">LGBMClassifier</label><div class=\"sk-toggleable__content\"><pre>LGBMClassifier()</pre></div></div></div></div></div>"
            ],
            "text/plain": [
              "LGBMClassifier()"
            ]
          },
          "execution_count": 22,
          "metadata": {},
          "output_type": "execute_result"
        }
      ],
      "source": [
        "#LightGBM\n",
        "\n",
        "! pip install lightgbm\n",
        "\n",
        "from lightgbm import LGBMClassifier\n",
        "\n",
        "\n",
        "lgbm_clas = LGBMClassifier()\n",
        "\n",
        "lgbm_clas.fit(X_train_hierarchical, y_train_hierarchical)"
      ]
    },
    {
      "cell_type": "code",
      "execution_count": null,
      "metadata": {
        "colab": {
          "base_uri": "https://localhost:8080/"
        },
        "id": "GSC-y-El5m0G",
        "outputId": "a2c64832-2935-4c2e-fd2a-1d67f81230be"
      },
      "outputs": [
        {
          "name": "stdout",
          "output_type": "stream",
          "text": [
            "Accuracy: 0.9939271255060729\n",
            "Balanced accuracy: 0.9874767706769673\n"
          ]
        }
      ],
      "source": [
        "y_true, y_pred = y_test_hierarchical, lgbm_clas.predict(X_test_hierarchical)\n",
        "print(\"Accuracy:\", metrics.accuracy_score(y_true, y_pred))\n",
        "print(\"Balanced accuracy:\", metrics.balanced_accuracy_score(y_true, y_pred))\n"
      ]
    },
    {
      "cell_type": "markdown",
      "metadata": {
        "id": "tgcIHfum6USB"
      },
      "source": [
        "All boosting methods have better accuracy than RF.  XGBoost and LightGBM have similar accuracy."
      ]
    },
    {
      "cell_type": "code",
      "execution_count": null,
      "metadata": {
        "id": "ClQOpt9P3axE"
      },
      "outputs": [],
      "source": [
        "#dump model\n",
        "\n",
        "with open(model_first_layer_xgb, 'wb') as f:\n",
        "            pickle.dump(\n",
        "                xgb_clas,\n",
        "                f,\n",
        "                pickle.HIGHEST_PROTOCOL)\n",
        "\n",
        "with open(model_first_layer_cb, 'wb') as f:\n",
        "            pickle.dump(\n",
        "                cb_clas,\n",
        "                f,\n",
        "                pickle.HIGHEST_PROTOCOL)\n",
        "\n",
        "with open(model_first_layer_lgbm, 'wb') as f:\n",
        "            pickle.dump(\n",
        "                lgbm_clas,\n",
        "                f,\n",
        "                pickle.HIGHEST_PROTOCOL)"
      ]
    },
    {
      "cell_type": "markdown",
      "metadata": {
        "id": "yksxmm7-xBa1"
      },
      "source": [
        "## Periodic classifier"
      ]
    },
    {
      "cell_type": "code",
      "execution_count": null,
      "metadata": {
        "colab": {
          "base_uri": "https://localhost:8080/"
        },
        "id": "52VNbwIXxDT9",
        "outputId": "8fc48738-f02b-46af-db0d-fd8d956d46c1"
      },
      "outputs": [
        {
          "name": "stdout",
          "output_type": "stream",
          "text": [
            "['CEP' 'DSCT' 'E' 'LPV' 'Periodic-Other' 'RRL']\n"
          ]
        }
      ],
      "source": [
        "#Training Periodic classifier\n",
        "\n",
        "rf_model_periodic = RandomForestClassifier(\n",
        "            n_estimators=500,\n",
        "            max_features='auto',\n",
        "            max_depth=None,\n",
        "            n_jobs=-1,\n",
        "            class_weight='balanced_subsample',\n",
        "            bootstrap=True,\n",
        "            criterion='entropy',\n",
        "            min_samples_split=2,\n",
        "            min_samples_leaf=1)\n",
        "\n",
        "rf_model_periodic.fit(X_train_periodic, y_train_periodic)\n",
        "\n",
        "\n",
        "# Applying periodic model to the test data\n",
        "#y_true_periodic, y_pred_periodic = y_test_original, rf_model_periodic.predict(X_test_periodic)\n",
        "y_true_periodic, y_pred_preiodic = y_test_periodic, rf_model_periodic.predict(X_test_periodic)\n",
        "y_pred_proba_periodic = rf_model_periodic.predict_proba(X_test_periodic)\n",
        "\n",
        "classes_order_proba_periodic = rf_model_periodic.classes_\n",
        "print(classes_order_proba_periodic)\n",
        "\n",
        "#Dumping trained model\n",
        "\n",
        "features_periodic = list(X_train_periodic)\n",
        "\n",
        "with open(model_periodic_layer, 'wb') as f:\n",
        "            pickle.dump(\n",
        "                rf_model_periodic,\n",
        "                f,\n",
        "                pickle.HIGHEST_PROTOCOL)"
      ]
    },
    {
      "cell_type": "code",
      "execution_count": null,
      "metadata": {
        "colab": {
          "base_uri": "https://localhost:8080/",
          "height": 808
        },
        "id": "0wPV2zXVxHlu",
        "outputId": "4da91d7d-35bf-4b30-a67a-e3eb405889da"
      },
      "outputs": [
        {
          "name": "stdout",
          "output_type": "stream",
          "text": [
            "85\n",
            "Multiband_period & 0.084\n",
            "g-W2 & 0.057\n",
            "r-W2 & 0.034\n",
            "g-W3 & 0.034\n",
            "g-r_max_corr & 0.033\n",
            "g-r_mean & 0.032\n",
            "g-r_max & 0.031\n",
            "IAR_phi_1 & 0.023\n",
            "g-r_mean_corr & 0.022\n",
            "GP_DRW_tau_1 & 0.020\n",
            "r-W3 & 0.018\n",
            "W2-W3 & 0.017\n",
            "Meanvariance_1 & 0.016\n",
            "GP_DRW_sigma_1 & 0.016\n",
            "delta_mag_fid_1 & 0.016\n",
            "ExcessVar_1 & 0.015\n",
            "Amplitude_1 & 0.014\n",
            "Std_1 & 0.014\n",
            "GP_DRW_tau_2 & 0.013\n",
            "Autocor_length_1 & 0.011\n",
            "PercentAmplitude_1 & 0.011\n",
            "IAR_phi_2 & 0.011\n",
            "Gskew_1 & 0.010\n",
            "SPM_A_1 & 0.010\n",
            "SF_ML_gamma_1 & 0.009\n",
            "delta_mag_fid_2 & 0.009\n",
            "W1-W2 & 0.008\n",
            "Q31_1 & 0.008\n",
            "MHPS_low_1 & 0.008\n",
            "SF_ML_amplitude_1 & 0.007\n"
          ]
        },
        {
          "data": {
            "image/png": "[encoded data removed]",
            "text/plain": [
              "<Figure size 1600x500 with 1 Axes>"
            ]
          },
          "metadata": {},
          "output_type": "display_data"
        }
      ],
      "source": [
        "#plotting feature importance\n",
        "print(len(feature_importance_name_first_layer))\n",
        "plot_feature_importances(rf_model_periodic, features_periodic, 'final_BHRF_model/feature_ranking_periodic_level.pdf')"
      ]
    },
    {
      "cell_type": "code",
      "execution_count": null,
      "metadata": {
        "colab": {
          "base_uri": "https://localhost:8080/"
        },
        "id": "FQ4FiiFc-CCj",
        "outputId": "e4da7945-120f-46ad-a3cf-9179ac46a086"
      },
      "outputs": [
        {
          "name": "stdout",
          "output_type": "stream",
          "text": [
            "Accuracy: 0.8291030205581715\n"
          ]
        }
      ],
      "source": [
        "y_true_periodic, y_pred_periodic = y_test_periodic, rf_model_periodic.predict(X_test_periodic)\n",
        "\n",
        "print(\"Accuracy:\", metrics.accuracy_score(y_true_periodic, y_pred_periodic))\n"
      ]
    },
    {
      "cell_type": "code",
      "execution_count": null,
      "metadata": {
        "colab": {
          "base_uri": "https://localhost:8080/"
        },
        "id": "o2XtiF23s5Y7",
        "outputId": "9625e414-cace-42bd-8ba1-1b262a8c8c42"
      },
      "outputs": [
        {
          "name": "stdout",
          "output_type": "stream",
          "text": [
            "oid\n",
            "ZTF17aaafpfj                 E\n",
            "ZTF18aauyncl               RRL\n",
            "ZTF18aaacxod               RRL\n",
            "ZTF17aabsips                 E\n",
            "ZTF17aaaqstr               RRL\n",
            "                     ...      \n",
            "ZTF18acrultl    Periodic-Other\n",
            "ZTF18abdlijz               RRL\n",
            "ZTF18abvexml                 E\n",
            "ZTF18abgsodl               RRL\n",
            "ZTF18aaxplcq               LPV\n",
            "Name: class_original, Length: 17414, dtype: object\n"
          ]
        }
      ],
      "source": [
        "print(y_true_periodic)"
      ]
    },
    {
      "cell_type": "code",
      "execution_count": null,
      "metadata": {
        "colab": {
          "base_uri": "https://localhost:8080/",
          "height": 244
        },
        "id": "3DQZzUwQ5YiI",
        "outputId": "7141e865-cad4-4dff-f3bd-00b620cecfb7"
      },
      "outputs": [
        {
          "data": {
            "text/html": [
              "<style>#sk-container-id-3 {color: black;background-color: white;}#sk-container-id-3 pre{padding: 0;}#sk-container-id-3 div.sk-toggleable {background-color: white;}#sk-container-id-3 label.sk-toggleable__label {cursor: pointer;display: block;width: 100%;margin-bottom: 0;padding: 0.3em;box-sizing: border-box;text-align: center;}#sk-container-id-3 label.sk-toggleable__label-arrow:before {content: \"▸\";float: left;margin-right: 0.25em;color: #696969;}#sk-container-id-3 label.sk-toggleable__label-arrow:hover:before {color: black;}#sk-container-id-3 div.sk-estimator:hover label.sk-toggleable__label-arrow:before {color: black;}#sk-container-id-3 div.sk-toggleable__content {max-height: 0;max-width: 0;overflow: hidden;text-align: left;background-color: #f0f8ff;}#sk-container-id-3 div.sk-toggleable__content pre {margin: 0.2em;color: black;border-radius: 0.25em;background-color: #f0f8ff;}#sk-container-id-3 input.sk-toggleable__control:checked~div.sk-toggleable__content {max-height: 200px;max-width: 100%;overflow: auto;}#sk-container-id-3 input.sk-toggleable__control:checked~label.sk-toggleable__label-arrow:before {content: \"▾\";}#sk-container-id-3 div.sk-estimator input.sk-toggleable__control:checked~label.sk-toggleable__label {background-color: #d4ebff;}#sk-container-id-3 div.sk-label input.sk-toggleable__control:checked~label.sk-toggleable__label {background-color: #d4ebff;}#sk-container-id-3 input.sk-hidden--visually {border: 0;clip: rect(1px 1px 1px 1px);clip: rect(1px, 1px, 1px, 1px);height: 1px;margin: -1px;overflow: hidden;padding: 0;position: absolute;width: 1px;}#sk-container-id-3 div.sk-estimator {font-family: monospace;background-color: #f0f8ff;border: 1px dotted black;border-radius: 0.25em;box-sizing: border-box;margin-bottom: 0.5em;}#sk-container-id-3 div.sk-estimator:hover {background-color: #d4ebff;}#sk-container-id-3 div.sk-parallel-item::after {content: \"\";width: 100%;border-bottom: 1px solid gray;flex-grow: 1;}#sk-container-id-3 div.sk-label:hover label.sk-toggleable__label {background-color: #d4ebff;}#sk-container-id-3 div.sk-serial::before {content: \"\";position: absolute;border-left: 1px solid gray;box-sizing: border-box;top: 0;bottom: 0;left: 50%;z-index: 0;}#sk-container-id-3 div.sk-serial {display: flex;flex-direction: column;align-items: center;background-color: white;padding-right: 0.2em;padding-left: 0.2em;position: relative;}#sk-container-id-3 div.sk-item {position: relative;z-index: 1;}#sk-container-id-3 div.sk-parallel {display: flex;align-items: stretch;justify-content: center;background-color: white;position: relative;}#sk-container-id-3 div.sk-item::before, #sk-container-id-3 div.sk-parallel-item::before {content: \"\";position: absolute;border-left: 1px solid gray;box-sizing: border-box;top: 0;bottom: 0;left: 50%;z-index: -1;}#sk-container-id-3 div.sk-parallel-item {display: flex;flex-direction: column;z-index: 1;position: relative;background-color: white;}#sk-container-id-3 div.sk-parallel-item:first-child::after {align-self: flex-end;width: 50%;}#sk-container-id-3 div.sk-parallel-item:last-child::after {align-self: flex-start;width: 50%;}#sk-container-id-3 div.sk-parallel-item:only-child::after {width: 0;}#sk-container-id-3 div.sk-dashed-wrapped {border: 1px dashed gray;margin: 0 0.4em 0.5em 0.4em;box-sizing: border-box;padding-bottom: 0.4em;background-color: white;}#sk-container-id-3 div.sk-label label {font-family: monospace;font-weight: bold;display: inline-block;line-height: 1.2em;}#sk-container-id-3 div.sk-label-container {text-align: center;}#sk-container-id-3 div.sk-container {/* jupyter's `normalize.less` sets `[hidden] { display: none; }` but bootstrap.min.css set `[hidden] { display: none !important; }` so we also need the `!important` here to be able to override the default hidden behavior on the sphinx rendered scikit-learn.org. See: https://github.com/scikit-learn/scikit-learn/issues/21755 */display: inline-block !important;position: relative;}#sk-container-id-3 div.sk-text-repr-fallback {display: none;}</style><div id=\"sk-container-id-3\" class=\"sk-top-container\"><div class=\"sk-text-repr-fallback\"><pre>XGBClassifier(base_score=None, booster=None, callbacks=None,\n",
              "              colsample_bylevel=None, colsample_bynode=None,\n",
              "              colsample_bytree=None, early_stopping_rounds=None,\n",
              "              enable_categorical=False, eval_metric=None, feature_types=None,\n",
              "              gamma=None, gpu_id=None, grow_policy=None, importance_type=None,\n",
              "              interaction_constraints=None, learning_rate=None, max_bin=None,\n",
              "              max_cat_threshold=None, max_cat_to_onehot=None,\n",
              "              max_delta_step=None, max_depth=None, max_leaves=None,\n",
              "              min_child_weight=None, missing=nan, monotone_constraints=None,\n",
              "              n_estimators=100, n_jobs=None, num_parallel_tree=None,\n",
              "              objective=&#x27;multi:softprob&#x27;, predictor=None, ...)</pre><b>In a Jupyter environment, please rerun this cell to show the HTML representation or trust the notebook. <br />On GitHub, the HTML representation is unable to render, please try loading this page with nbviewer.org.</b></div><div class=\"sk-container\" hidden><div class=\"sk-item\"><div class=\"sk-estimator sk-toggleable\"><input class=\"sk-toggleable__control sk-hidden--visually\" id=\"sk-estimator-id-3\" type=\"checkbox\" checked><label for=\"sk-estimator-id-3\" class=\"sk-toggleable__label sk-toggleable__label-arrow\">XGBClassifier</label><div class=\"sk-toggleable__content\"><pre>XGBClassifier(base_score=None, booster=None, callbacks=None,\n",
              "              colsample_bylevel=None, colsample_bynode=None,\n",
              "              colsample_bytree=None, early_stopping_rounds=None,\n",
              "              enable_categorical=False, eval_metric=None, feature_types=None,\n",
              "              gamma=None, gpu_id=None, grow_policy=None, importance_type=None,\n",
              "              interaction_constraints=None, learning_rate=None, max_bin=None,\n",
              "              max_cat_threshold=None, max_cat_to_onehot=None,\n",
              "              max_delta_step=None, max_depth=None, max_leaves=None,\n",
              "              min_child_weight=None, missing=nan, monotone_constraints=None,\n",
              "              n_estimators=100, n_jobs=None, num_parallel_tree=None,\n",
              "              objective=&#x27;multi:softprob&#x27;, predictor=None, ...)</pre></div></div></div></div></div>"
            ],
            "text/plain": [
              "XGBClassifier(base_score=None, booster=None, callbacks=None,\n",
              "              colsample_bylevel=None, colsample_bynode=None,\n",
              "              colsample_bytree=None, early_stopping_rounds=None,\n",
              "              enable_categorical=False, eval_metric=None, feature_types=None,\n",
              "              gamma=None, gpu_id=None, grow_policy=None, importance_type=None,\n",
              "              interaction_constraints=None, learning_rate=None, max_bin=None,\n",
              "              max_cat_threshold=None, max_cat_to_onehot=None,\n",
              "              max_delta_step=None, max_depth=None, max_leaves=None,\n",
              "              min_child_weight=None, missing=nan, monotone_constraints=None,\n",
              "              n_estimators=100, n_jobs=None, num_parallel_tree=None,\n",
              "              objective='multi:softprob', predictor=None, ...)"
            ]
          },
          "execution_count": 29,
          "metadata": {},
          "output_type": "execute_result"
        }
      ],
      "source": [
        "#xgboost\n",
        "\n",
        "xgb_model_periodic = XGBClassifier()\n",
        "\n",
        "y_train_periodic1 = y_train_periodic.replace(['CEP', 'DSCT', 'E', 'LPV', 'Periodic-Other', 'RRL'],[0, 1, 2, 3, 4, 5])\n",
        "\n",
        "xgb_model_periodic.fit(X_train_periodic, y_train_periodic1)\n",
        "\n"
      ]
    },
    {
      "cell_type": "code",
      "execution_count": null,
      "metadata": {
        "colab": {
          "base_uri": "https://localhost:8080/"
        },
        "id": "YOpX9V2P6HjH",
        "outputId": "2c805802-0d96-4155-8a56-0360aafb9fa6"
      },
      "outputs": [
        {
          "name": "stdout",
          "output_type": "stream",
          "text": [
            "Accuracy: 0.9577925806822097\n"
          ]
        }
      ],
      "source": [
        "y_true_periodic, y_pred_periodic = y_test_periodic.replace(['CEP', 'DSCT', 'E', 'LPV', 'Periodic-Other', 'RRL'],[0, 1, 2, 3, 4, 5]), xgb_model_periodic.predict(X_test_periodic)\n",
        "\n",
        "#print(y_true_periodic)\n",
        "#print(y_pred_periodic)\n",
        "print(\"Accuracy:\", metrics.accuracy_score(y_true_periodic, y_pred_periodic))\n"
      ]
    },
    {
      "cell_type": "code",
      "execution_count": null,
      "metadata": {
        "colab": {
          "background_save": true
        },
        "id": "jVlNFW2Wv7_r",
        "outputId": "77dd6f61-3263-4f40-84a0-a2d781ee3bdd"
      },
      "outputs": [
        {
          "data": {
            "text/plain": [
              "<catboost.core.CatBoostClassifier at 0x7fbd11329840>"
            ]
          },
          "execution_count": 31,
          "metadata": {},
          "output_type": "execute_result"
        }
      ],
      "source": [
        "cb_model_periodic = CatBoostClassifier(logging_level='Silent')\n",
        "\n",
        "cb_model_periodic.fit(X_train_periodic, y_train_periodic)\n"
      ]
    },
    {
      "cell_type": "code",
      "execution_count": null,
      "metadata": {
        "colab": {
          "background_save": true
        },
        "id": "Q1I7uNitzQ7_",
        "outputId": "40cca906-6bc7-4298-c6a3-31086c18a586"
      },
      "outputs": [
        {
          "name": "stdout",
          "output_type": "stream",
          "text": [
            "Accuracy: 0.9587688067072471\n"
          ]
        }
      ],
      "source": [
        "y_true_periodic, y_pred_periodic = y_test_periodic, cb_model_periodic.predict(X_test_periodic)\n",
        "\n",
        "print(\"Accuracy:\", metrics.accuracy_score(y_true_periodic, y_pred_periodic))\n"
      ]
    },
    {
      "cell_type": "code",
      "execution_count": null,
      "metadata": {
        "id": "kLFYsZaO75NF"
      },
      "outputs": [],
      "source": [
        "#lgbm\n",
        "\n",
        "lgbm_model_periodic = LGBMClassifier()\n",
        "\n",
        "lgbm_model_periodic.fit(X_train_periodic, y_train_periodic)\n"
      ]
    },
    {
      "cell_type": "code",
      "execution_count": null,
      "metadata": {
        "id": "Jy8FvvII8IXZ"
      },
      "outputs": [],
      "source": [
        "y_true_periodic, y_pred_periodic = y_test_periodic, lgbm_model_periodic.predict(X_test_periodic)\n",
        "\n",
        "#print(y_true_periodic)\n",
        "#print(y_pred_periodic)\n",
        "print(\"Accuracy:\", metrics.accuracy_score(y_true_periodic, y_pred_periodic))"
      ]
    },
    {
      "cell_type": "code",
      "execution_count": null,
      "metadata": {
        "id": "5_v2fqxs8b7X"
      },
      "outputs": [],
      "source": [
        "#dump model\n",
        "\n",
        "with open(model_periodic_layer_xgb, 'wb') as f:\n",
        "            pickle.dump(\n",
        "                xgb_model_periodic,\n",
        "                f,\n",
        "                pickle.HIGHEST_PROTOCOL)\n",
        "\n",
        "with open(model_periodic_layer_cb, 'wb') as f:\n",
        "            pickle.dump(\n",
        "                cb_model_periodic,\n",
        "                f,\n",
        "                pickle.HIGHEST_PROTOCOL)\n",
        "\n",
        "with open(model_periodic_layer_lgbm, 'wb') as f:\n",
        "            pickle.dump(\n",
        "                lgbm_model_periodic,\n",
        "                f,\n",
        "                pickle.HIGHEST_PROTOCOL)"
      ]
    },
    {
      "cell_type": "markdown",
      "metadata": {
        "id": "IfU8G88Z93-v"
      },
      "source": [
        "## Stochastic classifier"
      ]
    },
    {
      "cell_type": "code",
      "execution_count": null,
      "metadata": {
        "id": "pzhcxVfB95Hi"
      },
      "outputs": [],
      "source": [
        "#Training Stochastic classifier\n",
        "\n",
        "rf_model_stochastic = RandomForestClassifier(\n",
        "            n_estimators=500,\n",
        "            max_features=0.2,#'auto',\n",
        "            max_depth=None,\n",
        "            n_jobs=-1,\n",
        "            bootstrap=True,\n",
        "            class_weight='balanced_subsample',\n",
        "            criterion='entropy',\n",
        "            min_samples_split=2,\n",
        "            min_samples_leaf=1)\n",
        "\n",
        "rf_model_stochastic.fit(X_train_stochastic, y_train_stochastic)\n",
        "\n",
        "\n",
        "# Applying stochastic model to the test data\n",
        "y_true_stochastic, y_pred_stochastic  = y_test_stochastic, rf_model_stochastic.predict(X_test_stochastic)\n",
        "y_pred_proba_stochastic = rf_model_stochastic.predict_proba(X_test_stochastic)\n",
        "\n",
        "classes_order_proba_stochastic = rf_model_stochastic.classes_\n",
        "print(classes_order_proba_stochastic)\n",
        "\n",
        "#Dumping trained model\n",
        "\n",
        "features_stochastic = list(X_train_stochastic)\n",
        "\n",
        "\n",
        "with open(model_stochastic_layer, 'wb') as f:\n",
        "            pickle.dump(\n",
        "                rf_model_stochastic,\n",
        "                f,\n",
        "                pickle.HIGHEST_PROTOCOL)"
      ]
    },
    {
      "cell_type": "code",
      "execution_count": null,
      "metadata": {
        "id": "OIwS7aZ8-GzS"
      },
      "outputs": [],
      "source": [
        "#plotting feature importance\n",
        "plot_feature_importances(rf_model_stochastic, features_stochastic, 'final_BHRF_model/feature_ranking_stochastic_level.pdf')"
      ]
    },
    {
      "cell_type": "code",
      "execution_count": null,
      "metadata": {
        "colab": {
          "base_uri": "https://localhost:8080/"
        },
        "id": "HNthEgYU-RJo",
        "outputId": "d75a648c-b07e-4cad-e81a-aec13d2ba614"
      },
      "outputs": [
        {
          "name": "stdout",
          "output_type": "stream",
          "text": [
            "Accuracy: 0.8684817055603572\n"
          ]
        }
      ],
      "source": [
        "print(\"Accuracy:\", metrics.accuracy_score(y_true_stochastic, y_pred_stochastic))"
      ]
    },
    {
      "cell_type": "code",
      "execution_count": null,
      "metadata": {
        "id": "BLQ-VZDB-IBj"
      },
      "outputs": [],
      "source": [
        "#xgb\n",
        "\n",
        "\n",
        "xgb_model_stochastic = XGBClassifier()\n",
        "\n",
        "y_train_stochastic1 = y_train_stochastic.replace(['AGN', 'Blazar', 'CV/Nova', 'QSO', 'YSO'],[0, 1, 2, 3, 4])\n",
        "\n",
        "xgb_model_stochastic.fit(X_train_stochastic, y_train_stochastic1)"
      ]
    },
    {
      "cell_type": "code",
      "execution_count": null,
      "metadata": {
        "colab": {
          "base_uri": "https://localhost:8080/"
        },
        "id": "oU1qgkr9_Bu4",
        "outputId": "db5083b7-73d9-49bc-a7aa-22ac18f27d26"
      },
      "outputs": [
        {
          "name": "stdout",
          "output_type": "stream",
          "text": [
            "Accuracy: 0.9220685681359838\n"
          ]
        }
      ],
      "source": [
        "y_true_stochastic, y_pred_stochastic = y_test_stochastic.replace(['AGN', 'Blazar', 'CV/Nova', 'QSO', 'YSO'],[0, 1, 2, 3, 4]), xgb_model_stochastic.predict(X_test_stochastic)\n",
        "\n",
        "print(\"Accuracy:\", metrics.accuracy_score(y_true_stochastic, y_pred_stochastic))"
      ]
    },
    {
      "cell_type": "code",
      "execution_count": null,
      "metadata": {
        "colab": {
          "background_save": true
        },
        "id": "9TXXz4O2_NEN",
        "outputId": "bc2e3dc6-db05-4c59-b870-c478b67d0f9f"
      },
      "outputs": [
        {
          "data": {
            "text/plain": [
              "<catboost.core.CatBoostClassifier at 0x7fbd11415bd0>"
            ]
          },
          "execution_count": 39,
          "metadata": {},
          "output_type": "execute_result"
        }
      ],
      "source": [
        "#catboost\n",
        "cb_model_stochastic = CatBoostClassifier(logging_level='Silent')\n",
        "cb_model_stochastic.fit(X_train_stochastic, y_train_stochastic)\n"
      ]
    },
    {
      "cell_type": "code",
      "execution_count": null,
      "metadata": {
        "colab": {
          "base_uri": "https://localhost:8080/"
        },
        "id": "P-7Pku4V_iRX",
        "outputId": "01ebee8d-225c-43dd-a1cd-dd4ed0fb94ca"
      },
      "outputs": [
        {
          "name": "stdout",
          "output_type": "stream",
          "text": [
            "Accuracy: 0.9196197061365601\n"
          ]
        }
      ],
      "source": [
        "y_true_stochastic, y_pred_stochastic = y_test_stochastic, cb_model_stochastic.predict(X_test_stochastic)\n",
        "\n",
        "print(\"Accuracy:\", metrics.accuracy_score(y_true_stochastic, y_pred_stochastic))"
      ]
    },
    {
      "cell_type": "code",
      "execution_count": null,
      "metadata": {
        "colab": {
          "background_save": true
        },
        "id": "K7cjxgZf_1Ia",
        "outputId": "7461379e-9b63-4be3-acf6-57d7c616df7c"
      },
      "outputs": [
        {
          "data": {
            "text/html": [
              "<style>#sk-container-id-6 {color: black;background-color: white;}#sk-container-id-6 pre{padding: 0;}#sk-container-id-6 div.sk-toggleable {background-color: white;}#sk-container-id-6 label.sk-toggleable__label {cursor: pointer;display: block;width: 100%;margin-bottom: 0;padding: 0.3em;box-sizing: border-box;text-align: center;}#sk-container-id-6 label.sk-toggleable__label-arrow:before {content: \"▸\";float: left;margin-right: 0.25em;color: #696969;}#sk-container-id-6 label.sk-toggleable__label-arrow:hover:before {color: black;}#sk-container-id-6 div.sk-estimator:hover label.sk-toggleable__label-arrow:before {color: black;}#sk-container-id-6 div.sk-toggleable__content {max-height: 0;max-width: 0;overflow: hidden;text-align: left;background-color: #f0f8ff;}#sk-container-id-6 div.sk-toggleable__content pre {margin: 0.2em;color: black;border-radius: 0.25em;background-color: #f0f8ff;}#sk-container-id-6 input.sk-toggleable__control:checked~div.sk-toggleable__content {max-height: 200px;max-width: 100%;overflow: auto;}#sk-container-id-6 input.sk-toggleable__control:checked~label.sk-toggleable__label-arrow:before {content: \"▾\";}#sk-container-id-6 div.sk-estimator input.sk-toggleable__control:checked~label.sk-toggleable__label {background-color: #d4ebff;}#sk-container-id-6 div.sk-label input.sk-toggleable__control:checked~label.sk-toggleable__label {background-color: #d4ebff;}#sk-container-id-6 input.sk-hidden--visually {border: 0;clip: rect(1px 1px 1px 1px);clip: rect(1px, 1px, 1px, 1px);height: 1px;margin: -1px;overflow: hidden;padding: 0;position: absolute;width: 1px;}#sk-container-id-6 div.sk-estimator {font-family: monospace;background-color: #f0f8ff;border: 1px dotted black;border-radius: 0.25em;box-sizing: border-box;margin-bottom: 0.5em;}#sk-container-id-6 div.sk-estimator:hover {background-color: #d4ebff;}#sk-container-id-6 div.sk-parallel-item::after {content: \"\";width: 100%;border-bottom: 1px solid gray;flex-grow: 1;}#sk-container-id-6 div.sk-label:hover label.sk-toggleable__label {background-color: #d4ebff;}#sk-container-id-6 div.sk-serial::before {content: \"\";position: absolute;border-left: 1px solid gray;box-sizing: border-box;top: 0;bottom: 0;left: 50%;z-index: 0;}#sk-container-id-6 div.sk-serial {display: flex;flex-direction: column;align-items: center;background-color: white;padding-right: 0.2em;padding-left: 0.2em;position: relative;}#sk-container-id-6 div.sk-item {position: relative;z-index: 1;}#sk-container-id-6 div.sk-parallel {display: flex;align-items: stretch;justify-content: center;background-color: white;position: relative;}#sk-container-id-6 div.sk-item::before, #sk-container-id-6 div.sk-parallel-item::before {content: \"\";position: absolute;border-left: 1px solid gray;box-sizing: border-box;top: 0;bottom: 0;left: 50%;z-index: -1;}#sk-container-id-6 div.sk-parallel-item {display: flex;flex-direction: column;z-index: 1;position: relative;background-color: white;}#sk-container-id-6 div.sk-parallel-item:first-child::after {align-self: flex-end;width: 50%;}#sk-container-id-6 div.sk-parallel-item:last-child::after {align-self: flex-start;width: 50%;}#sk-container-id-6 div.sk-parallel-item:only-child::after {width: 0;}#sk-container-id-6 div.sk-dashed-wrapped {border: 1px dashed gray;margin: 0 0.4em 0.5em 0.4em;box-sizing: border-box;padding-bottom: 0.4em;background-color: white;}#sk-container-id-6 div.sk-label label {font-family: monospace;font-weight: bold;display: inline-block;line-height: 1.2em;}#sk-container-id-6 div.sk-label-container {text-align: center;}#sk-container-id-6 div.sk-container {/* jupyter's `normalize.less` sets `[hidden] { display: none; }` but bootstrap.min.css set `[hidden] { display: none !important; }` so we also need the `!important` here to be able to override the default hidden behavior on the sphinx rendered scikit-learn.org. See: https://github.com/scikit-learn/scikit-learn/issues/21755 */display: inline-block !important;position: relative;}#sk-container-id-6 div.sk-text-repr-fallback {display: none;}</style><div id=\"sk-container-id-6\" class=\"sk-top-container\"><div class=\"sk-text-repr-fallback\"><pre>LGBMClassifier()</pre><b>In a Jupyter environment, please rerun this cell to show the HTML representation or trust the notebook. <br />On GitHub, the HTML representation is unable to render, please try loading this page with nbviewer.org.</b></div><div class=\"sk-container\" hidden><div class=\"sk-item\"><div class=\"sk-estimator sk-toggleable\"><input class=\"sk-toggleable__control sk-hidden--visually\" id=\"sk-estimator-id-6\" type=\"checkbox\" checked><label for=\"sk-estimator-id-6\" class=\"sk-toggleable__label sk-toggleable__label-arrow\">LGBMClassifier</label><div class=\"sk-toggleable__content\"><pre>LGBMClassifier()</pre></div></div></div></div></div>"
            ],
            "text/plain": [
              "LGBMClassifier()"
            ]
          },
          "execution_count": 40,
          "metadata": {},
          "output_type": "execute_result"
        }
      ],
      "source": [
        "#lgbm\n",
        "\n",
        "lgbm_model_stochastic = LGBMClassifier()\n",
        "lgbm_model_stochastic.fit(X_train_stochastic, y_train_stochastic)"
      ]
    },
    {
      "cell_type": "code",
      "execution_count": null,
      "metadata": {
        "colab": {
          "base_uri": "https://localhost:8080/"
        },
        "id": "YWwmtIq2_7fe",
        "outputId": "25e46c35-2cba-4bd7-c1b5-d13a331c297d"
      },
      "outputs": [
        {
          "name": "stdout",
          "output_type": "stream",
          "text": [
            "Accuracy: 0.9197637568424085\n"
          ]
        }
      ],
      "source": [
        "y_true_stochastic, y_pred_stochastic = y_test_stochastic, lgbm_model_stochastic.predict(X_test_stochastic)\n",
        "\n",
        "print(\"Accuracy:\", metrics.accuracy_score(y_true_stochastic, y_pred_stochastic))"
      ]
    },
    {
      "cell_type": "code",
      "execution_count": null,
      "metadata": {
        "colab": {
          "background_save": true
        },
        "id": "_TbjQJrCAEdr"
      },
      "outputs": [],
      "source": [
        "#dump model\n",
        "\n",
        "with open(model_stochastic_layer_xgb, 'wb') as f:\n",
        "            pickle.dump(\n",
        "                xgb_model_stochastic,\n",
        "                f,\n",
        "                pickle.HIGHEST_PROTOCOL)\n",
        "\n",
        "with open(model_stochastic_layer_cb, 'wb') as f:\n",
        "            pickle.dump(\n",
        "                cb_model_stochastic,\n",
        "                f,\n",
        "                pickle.HIGHEST_PROTOCOL)\n",
        "\n",
        "with open(model_stochastic_layer_lgbm, 'wb') as f:\n",
        "            pickle.dump(\n",
        "                lgbm_model_stochastic,\n",
        "                f,\n",
        "                pickle.HIGHEST_PROTOCOL)"
      ]
    },
    {
      "cell_type": "code",
      "execution_count": null,
      "metadata": {
        "id": "jpBoilKReu11"
      },
      "outputs": [],
      "source": [
        "with open(model_stochastic_layer_lgbm, 'wb') as f:\n",
        "            pickle.dump(\n",
        "                lgbm_model_stochastic,\n",
        "                f,\n",
        "                pickle.HIGHEST_PROTOCOL)"
      ]
    },
    {
      "cell_type": "markdown",
      "metadata": {
        "id": "9X34jen6APsc"
      },
      "source": [
        "## Transient classifier"
      ]
    },
    {
      "cell_type": "code",
      "execution_count": null,
      "metadata": {
        "colab": {
          "background_save": true
        },
        "id": "kDS75ObrAQ4U",
        "outputId": "10ae0883-4023-479b-8f4e-56fea7d1f56e"
      },
      "outputs": [
        {
          "name": "stdout",
          "output_type": "stream",
          "text": [
            "['SLSN' 'SNII' 'SNIa' 'SNIbc']\n"
          ]
        }
      ],
      "source": [
        "#Training Transient classifier\n",
        "\n",
        "rf_model_transient = RandomForestClassifier(\n",
        "            n_estimators=500,\n",
        "            max_features='auto',\n",
        "            max_depth=None,\n",
        "            n_jobs=-1,\n",
        "            bootstrap=True,\n",
        "            class_weight='balanced_subsample',\n",
        "            criterion='entropy',\n",
        "            min_samples_split=2,\n",
        "            min_samples_leaf=1)\n",
        "\n",
        "rf_model_transient.fit(X_train_transient, y_train_transient)\n",
        "\n",
        "# Applying transient model to the test data\n",
        "y_true_transient, y_pred_transient  = y_test_original, rf_model_transient.predict(X_test_transient)\n",
        "y_pred_proba_transient = rf_model_transient.predict_proba(X_test_transient)\n",
        "\n",
        "classes_order_proba_transient = rf_model_transient.classes_\n",
        "print(classes_order_proba_transient)\n",
        "\n",
        "#Dumping trained model\n",
        "\n",
        "features_transient = list(X_train_transient)\n",
        "\n",
        "with open(model_transient_layer, 'wb') as f:\n",
        "            pickle.dump(\n",
        "                rf_model_transient,\n",
        "                f,\n",
        "                pickle.HIGHEST_PROTOCOL)\n",
        "\n",
        "with open(features_pickle, 'wb') as f:\n",
        "            pickle.dump(\n",
        "                features_transient,\n",
        "                f,\n",
        "                pickle.HIGHEST_PROTOCOL)"
      ]
    },
    {
      "cell_type": "code",
      "execution_count": null,
      "metadata": {
        "colab": {
          "background_save": true
        },
        "id": "P6zoqru9AZrQ",
        "outputId": "93885e07-abcb-4179-e939-a20cfc801a19"
      },
      "outputs": [
        {
          "name": "stdout",
          "output_type": "stream",
          "text": [
            "SPM_beta_2 & 0.031\n",
            "SPM_tau_rise_2 & 0.027\n",
            "SPM_t0_2 & 0.026\n",
            "g-r_max & 0.025\n",
            "SPM_t0_1 & 0.024\n",
            "LinearTrend_2 & 0.024\n",
            "SPM_tau_rise_1 & 0.019\n",
            "g-r_mean & 0.019\n",
            "MHPS_ratio_1 & 0.019\n",
            "SPM_beta_1 & 0.019\n",
            "IAR_phi_1 & 0.014\n",
            "SPM_tau_fall_1 & 0.013\n",
            "MHPS_low_1 & 0.013\n",
            "SPM_tau_fall_2 & 0.012\n",
            "IAR_phi_2 & 0.012\n",
            "LinearTrend_1 & 0.012\n",
            "dmag_first_det_fid_1 & 0.011\n",
            "AndersonDarling_2 & 0.011\n",
            "SPM_gamma_2 & 0.011\n",
            "SF_ML_amplitude_2 & 0.010\n",
            "GP_DRW_tau_2 & 0.010\n",
            "MHPS_ratio_2 & 0.010\n",
            "Power_rate_3 & 0.009\n",
            "Harmonics_phase_2_1 & 0.009\n",
            "SPM_chi_2 & 0.009\n",
            "ExcessVar_2 & 0.008\n",
            "SPM_gamma_1 & 0.008\n",
            "Psi_CS_2 & 0.008\n",
            "sgscore1 & 0.008\n",
            "Harmonics_phase_6_2 & 0.008\n"
          ]
        },
        {
          "data": {
            "image/png": "[encoded data removed]",
            "text/plain": [
              "<Figure size 1600x500 with 1 Axes>"
            ]
          },
          "metadata": {},
          "output_type": "display_data"
        }
      ],
      "source": [
        "#plotting feature importance\n",
        "plot_feature_importances(rf_model_transient, features_transient, 'final_BHRF_model/feature_ranking_transient_level.pdf')"
      ]
    },
    {
      "cell_type": "code",
      "execution_count": null,
      "metadata": {
        "colab": {
          "background_save": true
        },
        "id": "X3jA8CEdC5xK",
        "outputId": "5e11c8e1-98ac-4315-a5c6-af7f75aedba8"
      },
      "outputs": [
        {
          "data": {
            "text/html": [
              "<style>#sk-container-id-7 {color: black;background-color: white;}#sk-container-id-7 pre{padding: 0;}#sk-container-id-7 div.sk-toggleable {background-color: white;}#sk-container-id-7 label.sk-toggleable__label {cursor: pointer;display: block;width: 100%;margin-bottom: 0;padding: 0.3em;box-sizing: border-box;text-align: center;}#sk-container-id-7 label.sk-toggleable__label-arrow:before {content: \"▸\";float: left;margin-right: 0.25em;color: #696969;}#sk-container-id-7 label.sk-toggleable__label-arrow:hover:before {color: black;}#sk-container-id-7 div.sk-estimator:hover label.sk-toggleable__label-arrow:before {color: black;}#sk-container-id-7 div.sk-toggleable__content {max-height: 0;max-width: 0;overflow: hidden;text-align: left;background-color: #f0f8ff;}#sk-container-id-7 div.sk-toggleable__content pre {margin: 0.2em;color: black;border-radius: 0.25em;background-color: #f0f8ff;}#sk-container-id-7 input.sk-toggleable__control:checked~div.sk-toggleable__content {max-height: 200px;max-width: 100%;overflow: auto;}#sk-container-id-7 input.sk-toggleable__control:checked~label.sk-toggleable__label-arrow:before {content: \"▾\";}#sk-container-id-7 div.sk-estimator input.sk-toggleable__control:checked~label.sk-toggleable__label {background-color: #d4ebff;}#sk-container-id-7 div.sk-label input.sk-toggleable__control:checked~label.sk-toggleable__label {background-color: #d4ebff;}#sk-container-id-7 input.sk-hidden--visually {border: 0;clip: rect(1px 1px 1px 1px);clip: rect(1px, 1px, 1px, 1px);height: 1px;margin: -1px;overflow: hidden;padding: 0;position: absolute;width: 1px;}#sk-container-id-7 div.sk-estimator {font-family: monospace;background-color: #f0f8ff;border: 1px dotted black;border-radius: 0.25em;box-sizing: border-box;margin-bottom: 0.5em;}#sk-container-id-7 div.sk-estimator:hover {background-color: #d4ebff;}#sk-container-id-7 div.sk-parallel-item::after {content: \"\";width: 100%;border-bottom: 1px solid gray;flex-grow: 1;}#sk-container-id-7 div.sk-label:hover label.sk-toggleable__label {background-color: #d4ebff;}#sk-container-id-7 div.sk-serial::before {content: \"\";position: absolute;border-left: 1px solid gray;box-sizing: border-box;top: 0;bottom: 0;left: 50%;z-index: 0;}#sk-container-id-7 div.sk-serial {display: flex;flex-direction: column;align-items: center;background-color: white;padding-right: 0.2em;padding-left: 0.2em;position: relative;}#sk-container-id-7 div.sk-item {position: relative;z-index: 1;}#sk-container-id-7 div.sk-parallel {display: flex;align-items: stretch;justify-content: center;background-color: white;position: relative;}#sk-container-id-7 div.sk-item::before, #sk-container-id-7 div.sk-parallel-item::before {content: \"\";position: absolute;border-left: 1px solid gray;box-sizing: border-box;top: 0;bottom: 0;left: 50%;z-index: -1;}#sk-container-id-7 div.sk-parallel-item {display: flex;flex-direction: column;z-index: 1;position: relative;background-color: white;}#sk-container-id-7 div.sk-parallel-item:first-child::after {align-self: flex-end;width: 50%;}#sk-container-id-7 div.sk-parallel-item:last-child::after {align-self: flex-start;width: 50%;}#sk-container-id-7 div.sk-parallel-item:only-child::after {width: 0;}#sk-container-id-7 div.sk-dashed-wrapped {border: 1px dashed gray;margin: 0 0.4em 0.5em 0.4em;box-sizing: border-box;padding-bottom: 0.4em;background-color: white;}#sk-container-id-7 div.sk-label label {font-family: monospace;font-weight: bold;display: inline-block;line-height: 1.2em;}#sk-container-id-7 div.sk-label-container {text-align: center;}#sk-container-id-7 div.sk-container {/* jupyter's `normalize.less` sets `[hidden] { display: none; }` but bootstrap.min.css set `[hidden] { display: none !important; }` so we also need the `!important` here to be able to override the default hidden behavior on the sphinx rendered scikit-learn.org. See: https://github.com/scikit-learn/scikit-learn/issues/21755 */display: inline-block !important;position: relative;}#sk-container-id-7 div.sk-text-repr-fallback {display: none;}</style><div id=\"sk-container-id-7\" class=\"sk-top-container\"><div class=\"sk-text-repr-fallback\"><pre>XGBClassifier(base_score=None, booster=None, callbacks=None,\n",
              "              colsample_bylevel=None, colsample_bynode=None,\n",
              "              colsample_bytree=None, early_stopping_rounds=None,\n",
              "              enable_categorical=False, eval_metric=None, feature_types=None,\n",
              "              gamma=None, gpu_id=None, grow_policy=None, importance_type=None,\n",
              "              interaction_constraints=None, learning_rate=None, max_bin=None,\n",
              "              max_cat_threshold=None, max_cat_to_onehot=None,\n",
              "              max_delta_step=None, max_depth=None, max_leaves=None,\n",
              "              min_child_weight=None, missing=nan, monotone_constraints=None,\n",
              "              n_estimators=100, n_jobs=None, num_parallel_tree=None,\n",
              "              objective=&#x27;multi:softprob&#x27;, predictor=None, ...)</pre><b>In a Jupyter environment, please rerun this cell to show the HTML representation or trust the notebook. <br />On GitHub, the HTML representation is unable to render, please try loading this page with nbviewer.org.</b></div><div class=\"sk-container\" hidden><div class=\"sk-item\"><div class=\"sk-estimator sk-toggleable\"><input class=\"sk-toggleable__control sk-hidden--visually\" id=\"sk-estimator-id-7\" type=\"checkbox\" checked><label for=\"sk-estimator-id-7\" class=\"sk-toggleable__label sk-toggleable__label-arrow\">XGBClassifier</label><div class=\"sk-toggleable__content\"><pre>XGBClassifier(base_score=None, booster=None, callbacks=None,\n",
              "              colsample_bylevel=None, colsample_bynode=None,\n",
              "              colsample_bytree=None, early_stopping_rounds=None,\n",
              "              enable_categorical=False, eval_metric=None, feature_types=None,\n",
              "              gamma=None, gpu_id=None, grow_policy=None, importance_type=None,\n",
              "              interaction_constraints=None, learning_rate=None, max_bin=None,\n",
              "              max_cat_threshold=None, max_cat_to_onehot=None,\n",
              "              max_delta_step=None, max_depth=None, max_leaves=None,\n",
              "              min_child_weight=None, missing=nan, monotone_constraints=None,\n",
              "              n_estimators=100, n_jobs=None, num_parallel_tree=None,\n",
              "              objective=&#x27;multi:softprob&#x27;, predictor=None, ...)</pre></div></div></div></div></div>"
            ],
            "text/plain": [
              "XGBClassifier(base_score=None, booster=None, callbacks=None,\n",
              "              colsample_bylevel=None, colsample_bynode=None,\n",
              "              colsample_bytree=None, early_stopping_rounds=None,\n",
              "              enable_categorical=False, eval_metric=None, feature_types=None,\n",
              "              gamma=None, gpu_id=None, grow_policy=None, importance_type=None,\n",
              "              interaction_constraints=None, learning_rate=None, max_bin=None,\n",
              "              max_cat_threshold=None, max_cat_to_onehot=None,\n",
              "              max_delta_step=None, max_depth=None, max_leaves=None,\n",
              "              min_child_weight=None, missing=nan, monotone_constraints=None,\n",
              "              n_estimators=100, n_jobs=None, num_parallel_tree=None,\n",
              "              objective='multi:softprob', predictor=None, ...)"
            ]
          },
          "execution_count": 44,
          "metadata": {},
          "output_type": "execute_result"
        }
      ],
      "source": [
        "#xgb\n",
        "\n",
        "xgb_model_transient = XGBClassifier()\n",
        "\n",
        "y_train_transient1 = y_train_transient.replace(['SLSN', 'SNII', 'SNIa', 'SNIbc'],[0, 1, 2, 3])\n",
        "\n",
        "xgb_model_transient.fit(X_train_transient, y_train_transient1)"
      ]
    },
    {
      "cell_type": "code",
      "execution_count": null,
      "metadata": {
        "colab": {
          "base_uri": "https://localhost:8080/"
        },
        "id": "LniI2M_BDtL2",
        "outputId": "9f58fdb3-59e0-4766-ed8f-4f38465309d8"
      },
      "outputs": [
        {
          "name": "stdout",
          "output_type": "stream",
          "text": [
            "Accuracy: 0.877906976744186\n"
          ]
        }
      ],
      "source": [
        "y_true_transient, y_pred_transient = y_test_transient.replace(['SLSN', 'SNII', 'SNIa', 'SNIbc'],[0, 1, 2, 3]), xgb_model_transient.predict(X_test_transient)\n",
        "\n",
        "print(\"Accuracy:\", metrics.accuracy_score(y_true_transient, y_pred_transient))"
      ]
    },
    {
      "cell_type": "code",
      "execution_count": null,
      "metadata": {
        "colab": {
          "background_save": true
        },
        "id": "IvIqOCH6D_ZU",
        "outputId": "4f00f111-af29-4964-94e6-50e715736cfe"
      },
      "outputs": [
        {
          "data": {
            "text/plain": [
              "<catboost.core.CatBoostClassifier at 0x7fbd10348940>"
            ]
          },
          "execution_count": 45,
          "metadata": {},
          "output_type": "execute_result"
        }
      ],
      "source": [
        "#catboost\n",
        "cb_model_transient = CatBoostClassifier(logging_level='Silent')\n",
        "cb_model_transient.fit(X_train_transient, y_train_transient)"
      ]
    },
    {
      "cell_type": "code",
      "execution_count": null,
      "metadata": {
        "colab": {
          "base_uri": "https://localhost:8080/"
        },
        "id": "iF6Lz5OcEIN-",
        "outputId": "7688eb81-c931-4779-d14f-329833687a84"
      },
      "outputs": [
        {
          "name": "stdout",
          "output_type": "stream",
          "text": [
            "Accuracy: 0.8808139534883721\n"
          ]
        }
      ],
      "source": [
        "y_true_transient, y_pred_transient = y_test_transient, cb_model_transient.predict(X_test_transient)\n",
        "\n",
        "print(\"Accuracy:\", metrics.accuracy_score(y_true_transient, y_pred_transient))"
      ]
    },
    {
      "cell_type": "code",
      "execution_count": null,
      "metadata": {
        "colab": {
          "background_save": true
        },
        "id": "iO7dE8bdERyL",
        "outputId": "af081d32-6634-4b13-dac2-b3eb208e2685"
      },
      "outputs": [
        {
          "data": {
            "text/html": [
              "<style>#sk-container-id-8 {color: black;background-color: white;}#sk-container-id-8 pre{padding: 0;}#sk-container-id-8 div.sk-toggleable {background-color: white;}#sk-container-id-8 label.sk-toggleable__label {cursor: pointer;display: block;width: 100%;margin-bottom: 0;padding: 0.3em;box-sizing: border-box;text-align: center;}#sk-container-id-8 label.sk-toggleable__label-arrow:before {content: \"▸\";float: left;margin-right: 0.25em;color: #696969;}#sk-container-id-8 label.sk-toggleable__label-arrow:hover:before {color: black;}#sk-container-id-8 div.sk-estimator:hover label.sk-toggleable__label-arrow:before {color: black;}#sk-container-id-8 div.sk-toggleable__content {max-height: 0;max-width: 0;overflow: hidden;text-align: left;background-color: #f0f8ff;}#sk-container-id-8 div.sk-toggleable__content pre {margin: 0.2em;color: black;border-radius: 0.25em;background-color: #f0f8ff;}#sk-container-id-8 input.sk-toggleable__control:checked~div.sk-toggleable__content {max-height: 200px;max-width: 100%;overflow: auto;}#sk-container-id-8 input.sk-toggleable__control:checked~label.sk-toggleable__label-arrow:before {content: \"▾\";}#sk-container-id-8 div.sk-estimator input.sk-toggleable__control:checked~label.sk-toggleable__label {background-color: #d4ebff;}#sk-container-id-8 div.sk-label input.sk-toggleable__control:checked~label.sk-toggleable__label {background-color: #d4ebff;}#sk-container-id-8 input.sk-hidden--visually {border: 0;clip: rect(1px 1px 1px 1px);clip: rect(1px, 1px, 1px, 1px);height: 1px;margin: -1px;overflow: hidden;padding: 0;position: absolute;width: 1px;}#sk-container-id-8 div.sk-estimator {font-family: monospace;background-color: #f0f8ff;border: 1px dotted black;border-radius: 0.25em;box-sizing: border-box;margin-bottom: 0.5em;}#sk-container-id-8 div.sk-estimator:hover {background-color: #d4ebff;}#sk-container-id-8 div.sk-parallel-item::after {content: \"\";width: 100%;border-bottom: 1px solid gray;flex-grow: 1;}#sk-container-id-8 div.sk-label:hover label.sk-toggleable__label {background-color: #d4ebff;}#sk-container-id-8 div.sk-serial::before {content: \"\";position: absolute;border-left: 1px solid gray;box-sizing: border-box;top: 0;bottom: 0;left: 50%;z-index: 0;}#sk-container-id-8 div.sk-serial {display: flex;flex-direction: column;align-items: center;background-color: white;padding-right: 0.2em;padding-left: 0.2em;position: relative;}#sk-container-id-8 div.sk-item {position: relative;z-index: 1;}#sk-container-id-8 div.sk-parallel {display: flex;align-items: stretch;justify-content: center;background-color: white;position: relative;}#sk-container-id-8 div.sk-item::before, #sk-container-id-8 div.sk-parallel-item::before {content: \"\";position: absolute;border-left: 1px solid gray;box-sizing: border-box;top: 0;bottom: 0;left: 50%;z-index: -1;}#sk-container-id-8 div.sk-parallel-item {display: flex;flex-direction: column;z-index: 1;position: relative;background-color: white;}#sk-container-id-8 div.sk-parallel-item:first-child::after {align-self: flex-end;width: 50%;}#sk-container-id-8 div.sk-parallel-item:last-child::after {align-self: flex-start;width: 50%;}#sk-container-id-8 div.sk-parallel-item:only-child::after {width: 0;}#sk-container-id-8 div.sk-dashed-wrapped {border: 1px dashed gray;margin: 0 0.4em 0.5em 0.4em;box-sizing: border-box;padding-bottom: 0.4em;background-color: white;}#sk-container-id-8 div.sk-label label {font-family: monospace;font-weight: bold;display: inline-block;line-height: 1.2em;}#sk-container-id-8 div.sk-label-container {text-align: center;}#sk-container-id-8 div.sk-container {/* jupyter's `normalize.less` sets `[hidden] { display: none; }` but bootstrap.min.css set `[hidden] { display: none !important; }` so we also need the `!important` here to be able to override the default hidden behavior on the sphinx rendered scikit-learn.org. See: https://github.com/scikit-learn/scikit-learn/issues/21755 */display: inline-block !important;position: relative;}#sk-container-id-8 div.sk-text-repr-fallback {display: none;}</style><div id=\"sk-container-id-8\" class=\"sk-top-container\"><div class=\"sk-text-repr-fallback\"><pre>LGBMClassifier()</pre><b>In a Jupyter environment, please rerun this cell to show the HTML representation or trust the notebook. <br />On GitHub, the HTML representation is unable to render, please try loading this page with nbviewer.org.</b></div><div class=\"sk-container\" hidden><div class=\"sk-item\"><div class=\"sk-estimator sk-toggleable\"><input class=\"sk-toggleable__control sk-hidden--visually\" id=\"sk-estimator-id-8\" type=\"checkbox\" checked><label for=\"sk-estimator-id-8\" class=\"sk-toggleable__label sk-toggleable__label-arrow\">LGBMClassifier</label><div class=\"sk-toggleable__content\"><pre>LGBMClassifier()</pre></div></div></div></div></div>"
            ],
            "text/plain": [
              "LGBMClassifier()"
            ]
          },
          "execution_count": 46,
          "metadata": {},
          "output_type": "execute_result"
        }
      ],
      "source": [
        "#lgbm\n",
        "\n",
        "lgbm_model_transient = LGBMClassifier()\n",
        "lgbm_model_transient.fit(X_train_transient, y_train_transient)"
      ]
    },
    {
      "cell_type": "code",
      "execution_count": null,
      "metadata": {
        "colab": {
          "base_uri": "https://localhost:8080/"
        },
        "id": "BOe2YD7WESCe",
        "outputId": "aa756a1e-a496-4699-ef7b-fca734545caa"
      },
      "outputs": [
        {
          "name": "stdout",
          "output_type": "stream",
          "text": [
            "Accuracy: 0.875\n"
          ]
        }
      ],
      "source": [
        "y_true_transient, y_pred_transient = y_test_transient, lgbm_model_transient.predict(X_test_transient)\n",
        "\n",
        "print(\"Accuracy:\", metrics.accuracy_score(y_true_transient, y_pred_transient))"
      ]
    },
    {
      "cell_type": "code",
      "execution_count": null,
      "metadata": {
        "colab": {
          "background_save": true
        },
        "id": "VIB3-XsiCk7n"
      },
      "outputs": [],
      "source": [
        "#dump model\n",
        "\n",
        "with open(model_transient_layer_xgb, 'wb') as f:\n",
        "            pickle.dump(\n",
        "                xgb_model_transient,\n",
        "                f,\n",
        "                pickle.HIGHEST_PROTOCOL)\n",
        "\n",
        "with open(model_transient_layer_cb, 'wb') as f:\n",
        "            pickle.dump(\n",
        "                cb_model_transient,\n",
        "                f,\n",
        "                pickle.HIGHEST_PROTOCOL)\n",
        "\n",
        "with open(model_transient_layer_lgbm, 'wb') as f:\n",
        "            pickle.dump(\n",
        "                lgbm_model_transient,\n",
        "                f,\n",
        "                pickle.HIGHEST_PROTOCOL)"
      ]
    }
  ],
  "metadata": {
    "colab": {
      "provenance": []
    },
    "kernelspec": {
      "display_name": "Python 3",
      "language": "python",
      "name": "python3"
    },
    "language_info": {
      "codemirror_mode": {
        "name": "ipython",
        "version": 3
      },
      "file_extension": ".py",
      "mimetype": "text/x-python",
      "name": "python",
      "nbconvert_exporter": "python",
      "pygments_lexer": "ipython3",
      "version": "3.7.6"
    }
  },
  "nbformat": 4,
  "nbformat_minor": 0
}